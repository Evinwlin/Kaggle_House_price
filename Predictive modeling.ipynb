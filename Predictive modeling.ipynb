{
 "cells": [
  {
   "cell_type": "code",
   "execution_count": 1,
   "id": "5ae2ba87",
   "metadata": {},
   "outputs": [],
   "source": [
    "import pandas as pd\n",
    "import numpy as np\n",
    "import itertools\n",
    "from itertools import chain, combinations\n",
    "\n",
    "import scipy as stats\n",
    "import statsmodels.api as sms\n",
    "import scipy.stats as scipystats\n",
    "import statsmodels.stats.stattools as stools\n",
    "import copy, math, time \n",
    "from sklearn.pipeline import make_pipeline\n",
    "from xgboost import XGBRegressor\n",
    "from mlxtend.regressor import StackingCVRegressor\n",
    "\n",
    "# Graph library\n",
    "import seaborn as sns\n",
    "import matplotlib.pyplot as plt\n",
    "from statsmodels.graphics.regressionplots import *\n",
    "%matplotlib inline\n",
    "plt.style.use('ggplot')\n",
    "\n",
    "import warnings\n",
    "warnings.filterwarnings('ignore')"
   ]
  },
  {
   "cell_type": "code",
   "execution_count": 2,
   "id": "026a81fa",
   "metadata": {},
   "outputs": [],
   "source": [
    "# Checking linear regression assumptions\n",
    "# Graph\n",
    "from statsmodels.graphics.gofplots import ProbPlot\n",
    "import pandas as pd\n",
    "import numpy as np\n",
    "import matplotlib.pyplot as plt\n",
    "def resid_v_fitted(fitted_y, y, ax):\n",
    "    '''Plots the residuals vs. fitted yvalues'''\n",
    "    sns.residplot(fitted_y, y,\n",
    "          lowess=True, scatter_kws={'alpha': 0.5},\n",
    "          line_kws={'color': 'red', 'lw': 1, 'alpha': 0.8},ax=ax)\n",
    "                 \n",
    "    ax.set_title('Residuals vs Fitted')\n",
    "    ax.set_xlabel('Fitted values')\n",
    "    ax.set_ylabel('Residuals')\n",
    "\n",
    "def normal_QQ_plot(norm_residuals, ax):\n",
    "    QQ = ProbPlot(norm_residuals)\n",
    "    QQ.qqplot(line='45', alpha=0.5, color='#4C72B0', lw=1, ax=ax)\n",
    "    ax.set_title('Normal Q-Q')\n",
    "    ax.set_xlabel('Theoretical Quantiles')\n",
    "    ax.set_ylabel('Standardized Residuals')\n",
    "    abs_norm_resid =norm_residuals.sort_values(ascending=False)\n",
    "     \n",
    "    \n",
    "    abs_norm_resid_top_3 = abs_norm_resid[:3]\n",
    "    for r, i in enumerate(abs_norm_resid_top_3.index):\n",
    "        ax.annotate(i, xy=(np.flip(QQ.theoretical_quantiles, 0)[r],\n",
    "                                        norm_residuals[i]));\n",
    "\n",
    "def scale_loc_plot(fitted_y, norm_residuals, norm_residuals_abs_sqrt, ax):\n",
    "    ax.scatter(fitted_y, norm_residuals_abs_sqrt, alpha=0.5);\n",
    "    sns.regplot(fitted_y, norm_residuals_abs_sqrt,\n",
    "              scatter=False,\n",
    "              ci=False,\n",
    "              lowess=True,\n",
    "              line_kws={'color': 'red', 'lw': 1, 'alpha': 0.8}, ax=ax)\n",
    "    ax.set_title('Scale-Location')\n",
    "    ax.set_xlabel('Fitted values')\n",
    "    ax.set_ylabel('$\\sqrt{|Standardized Residuals|}$');\n",
    "\n",
    "    # annotations\n",
    "    abs_norm_resid = norm_residuals.sort_values(ascending=False)\n",
    "    abs_norm_resid_top_3 = abs_norm_resid[:3]\n",
    "    abs_sq_norm_resid = norm_residuals_abs_sqrt.sort_values(ascending=False)\n",
    "    abs_sq_norm_resid_top_3 = abs_sq_norm_resid[:3]\n",
    " \n",
    "    for i in abs_norm_resid_top_3.index:\n",
    "        ax.annotate(i, xy=(fitted_y[i],\n",
    "                norm_residuals_abs_sqrt[i]))\n",
    "        \n",
    "def residuals_v_leverage_plot(norm_residuals, model_leverage, ax):\n",
    "    ax.scatter(model_leverage, norm_residuals, alpha=0.5);\n",
    "    sns.regplot(model_leverage, norm_residuals, scatter=False,\n",
    "              ci=False, lowess=True,\n",
    "              line_kws={'color': 'red', 'lw': 1, 'alpha': 0.8}, ax=ax)\n",
    "    \n",
    "    ax.set_xlim(0, max(model_leverage)+0.01)\n",
    "    ax.set_ylim(-3, 5)\n",
    "    ax.set_title('Residuals vs Leverage')\n",
    "    ax.set_xlabel('Leverage')\n",
    "    ax.set_ylabel('Standardized Residuals')\n",
    "    \n",
    "        \n",
    "def diagnostic_plots(model, X, y, return_high_leverage=False):\n",
    "    fitted_y = model.fittedvalues\n",
    "    residuals = model.resid\n",
    "    norm_residuals = pd.Series(model.get_influence().resid_studentized_internal, index=fitted_y.index)\n",
    "    norm_residuals_abs_sqrt = pd.Series(np.sqrt(np.abs(norm_residuals)), index=fitted_y.index)\n",
    "    model_abs_resid = pd.Series(np.abs(residuals), index=fitted_y.index)\n",
    "    model_leverage = pd.Series(model.get_influence().hat_matrix_diag, index=fitted_y.index)\n",
    "    avg_leverage = model_leverage.mean()\n",
    "    model_cooks = pd.Series(model.get_influence().cooks_distance[0], index=fitted_y.index)\n",
    "    fig, ax = plt.subplots(2,2, figsize=(12,10))\n",
    "    # Residuals vs. Fitted\n",
    "    resid_v_fitted(fitted_y, y, ax=ax[0,0])\n",
    "    # Normal QQ Plot\n",
    "    normal_QQ_plot(norm_residuals, ax=ax[0,1])\n",
    "    # Scale-Location\n",
    "    scale_loc_plot(fitted_y, norm_residuals, norm_residuals_abs_sqrt, ax=ax[1,0])\n",
    "    # Residuals vs. Leverage\n",
    "    residuals_v_leverage_plot(norm_residuals, model_leverage,ax=ax[1,1])\n",
    "    if return_high_leverage:\n",
    "        return model_leverage[model_leverage > avg_leverage*2]\n",
    "# diagnostic_plots(model, X, y, return_high_leverage=False)"
   ]
  },
  {
   "cell_type": "code",
   "execution_count": 3,
   "id": "11becf53",
   "metadata": {},
   "outputs": [],
   "source": [
    "# loading data\n",
    "train_y = pd.read_csv(\"train.csv\")[\"SalePrice\"]\n",
    "data = pd.read_csv(\"train1.csv\").iloc[:,1:]\n",
    "# data before dummification for multiconlinearity detection\n",
    "train_x1 = data.iloc[:len(train_y)]\n",
    "train_x1_cont = train_x1.select_dtypes(exclude = \"object\")"
   ]
  },
  {
   "cell_type": "code",
   "execution_count": 4,
   "id": "ccff2162",
   "metadata": {},
   "outputs": [
    {
     "data": {
      "text/plain": [
       "(2919, 261)"
      ]
     },
     "execution_count": 4,
     "metadata": {},
     "output_type": "execute_result"
    }
   ],
   "source": [
    "# dummification\n",
    "data_dum = pd.get_dummies(data, drop_first = True)\n",
    "# splitig data\n",
    "train_X = data_dum.iloc[:len(train_y)]\n",
    "data_dum.shape"
   ]
  },
  {
   "cell_type": "markdown",
   "id": "b086add9",
   "metadata": {},
   "source": [
    "## Linear Regression"
   ]
  },
  {
   "cell_type": "code",
   "execution_count": 5,
   "id": "d92a69ec",
   "metadata": {},
   "outputs": [
    {
     "data": {
      "text/plain": [
       "0.933201211954752"
      ]
     },
     "execution_count": 5,
     "metadata": {},
     "output_type": "execute_result"
    }
   ],
   "source": [
    "# Applied Linear regression - baseline model\n",
    "from sklearn.linear_model import LinearRegression \n",
    "org_ols = LinearRegression()\n",
    "org_ols.fit(train_X,train_y)\n",
    "\n",
    "coef = sorted(org_ols.coef_.tolist(), reverse = True)\n",
    "intercept = org_ols.intercept_\n",
    "RSS = np.sum((org_ols.predict(train_X) - train_y) ** 2)\n",
    "R_square = org_ols.score(train_X, train_y) # 0.9330945017406497\n",
    "R_square"
   ]
  },
  {
   "cell_type": "code",
   "execution_count": 6,
   "id": "06dce77b",
   "metadata": {},
   "outputs": [
    {
     "data": {
      "text/plain": [
       "20525.248694204343"
      ]
     },
     "execution_count": 6,
     "metadata": {},
     "output_type": "execute_result"
    }
   ],
   "source": [
    "from sklearn.metrics import mean_squared_error\n",
    "y_true = train_y\n",
    "y_pred = org_ols.predict(train_X)\n",
    "mean_squared_error(y_true, y_pred, squared = False )"
   ]
  },
  {
   "cell_type": "code",
   "execution_count": 7,
   "id": "8fea5ead",
   "metadata": {},
   "outputs": [
    {
     "data": {
      "text/html": [
       "<div>\n",
       "<style scoped>\n",
       "    .dataframe tbody tr th:only-of-type {\n",
       "        vertical-align: middle;\n",
       "    }\n",
       "\n",
       "    .dataframe tbody tr th {\n",
       "        vertical-align: top;\n",
       "    }\n",
       "\n",
       "    .dataframe thead th {\n",
       "        text-align: right;\n",
       "    }\n",
       "</style>\n",
       "<table border=\"1\" class=\"dataframe\">\n",
       "  <thead>\n",
       "    <tr style=\"text-align: right;\">\n",
       "      <th></th>\n",
       "      <th>coefficient</th>\n",
       "    </tr>\n",
       "  </thead>\n",
       "  <tbody>\n",
       "    <tr>\n",
       "      <th>RoofMatl_Membran</th>\n",
       "      <td>667006.188281</td>\n",
       "    </tr>\n",
       "    <tr>\n",
       "      <th>RoofMatl_Metal</th>\n",
       "      <td>634775.741311</td>\n",
       "    </tr>\n",
       "    <tr>\n",
       "      <th>RoofMatl_WdShngl</th>\n",
       "      <td>626268.604829</td>\n",
       "    </tr>\n",
       "    <tr>\n",
       "      <th>RoofMatl_Tar&amp;Grv</th>\n",
       "      <td>572798.030814</td>\n",
       "    </tr>\n",
       "    <tr>\n",
       "      <th>RoofMatl_CompShg</th>\n",
       "      <td>571421.196516</td>\n",
       "    </tr>\n",
       "  </tbody>\n",
       "</table>\n",
       "</div>"
      ],
      "text/plain": [
       "                    coefficient\n",
       "RoofMatl_Membran  667006.188281\n",
       "RoofMatl_Metal    634775.741311\n",
       "RoofMatl_WdShngl  626268.604829\n",
       "RoofMatl_Tar&Grv  572798.030814\n",
       "RoofMatl_CompShg  571421.196516"
      ]
     },
     "execution_count": 7,
     "metadata": {},
     "output_type": "execute_result"
    }
   ],
   "source": [
    "# Coef\n",
    "colnames = train_X.columns\n",
    "result = pd.DataFrame(org_ols.coef_).transpose()\n",
    "result.columns = colnames.tolist()\n",
    "result['intercept'] = org_ols.intercept_ \n",
    "result = result.transpose()\n",
    "result.columns = ['coefficient']\n",
    "result.sort_values('coefficient', ascending = False)[:5]"
   ]
  },
  {
   "cell_type": "code",
   "execution_count": 8,
   "id": "9c08d4f7",
   "metadata": {},
   "outputs": [
    {
     "name": "stdout",
     "output_type": "stream",
     "text": [
      "                            OLS Regression Results                            \n",
      "==============================================================================\n",
      "Dep. Variable:              SalePrice   R-squared:                       0.933\n",
      "Model:                            OLS   Adj. R-squared:                  0.919\n",
      "Method:                 Least Squares   F-statistic:                     67.24\n",
      "Date:                Fri, 14 May 2021   Prob (F-statistic):               0.00\n",
      "Time:                        03:06:28   Log-Likelihood:                -16569.\n",
      "No. Observations:                1460   AIC:                         3.364e+04\n",
      "Df Residuals:                    1208   BIC:                         3.497e+04\n",
      "Df Model:                         251                                         \n",
      "Covariance Type:            nonrobust                                         \n",
      "=========================================================================================\n",
      "                            coef    std err          t      P>|t|      [0.025      0.975]\n",
      "-----------------------------------------------------------------------------------------\n",
      "const                 -5.865e+05   1.06e+06     -0.555      0.579   -2.66e+06    1.49e+06\n",
      "MSSubClass              -55.4671     82.550     -0.672      0.502    -217.424     106.490\n",
      "LotFrontage              27.0379     44.832      0.603      0.547     -60.920     114.995\n",
      "LotArea                   0.7095      0.109      6.485      0.000       0.495       0.924\n",
      "OverallQual            6784.4666   1010.904      6.711      0.000    4801.145    8767.788\n",
      "OverallCond            5789.7598    870.536      6.651      0.000    4081.830    7497.690\n",
      "YearBuilt               320.7382     76.886      4.172      0.000     169.893     471.583\n",
      "YearRemodAdd            104.8901     55.700      1.883      0.060      -4.389     214.169\n",
      "MasVnrArea               20.8699      5.779      3.612      0.000       9.533      32.207\n",
      "BsmtFinSF1                8.6032      3.020      2.848      0.004       2.678      14.529\n",
      "BsmtFinSF2                1.8535      5.829      0.318      0.751      -9.582      13.289\n",
      "BsmtUnfSF                -8.9583      2.971     -3.015      0.003     -14.787      -3.130\n",
      "TotalBsmtSF               1.4984      4.198      0.357      0.721      -6.738       9.735\n",
      "1stFlrSF                  4.4693      5.404      0.827      0.408      -6.133      15.071\n",
      "2ndFlrSF                 22.2935      4.116      5.417      0.000      14.219      30.368\n",
      "LowQualFinSF            -15.1312     12.310     -1.229      0.219     -39.282       9.020\n",
      "GrLivArea                11.6315      7.052      1.649      0.099      -2.204      25.467\n",
      "BsmtFullBath           1562.6591   1976.593      0.791      0.429   -2315.277    5440.596\n",
      "BsmtHalfBath           -465.2830   3021.941     -0.154      0.878   -6394.118    5463.552\n",
      "FullBath               3682.6247   2196.035      1.677      0.094    -625.841    7991.091\n",
      "HalfBath               1879.8487   2090.707      0.899      0.369   -2221.972    5981.669\n",
      "BedroomAbvGr          -3655.6460   1362.229     -2.684      0.007   -6328.244    -983.048\n",
      "KitchenAbvGr          -1.371e+04   5676.104     -2.415      0.016   -2.48e+04   -2570.887\n",
      "TotRmsAbvGrd           1823.5564    953.781      1.912      0.056     -47.696    3694.808\n",
      "Fireplaces             6179.1088   2549.540      2.424      0.016    1177.090    1.12e+04\n",
      "GarageYrBlt             -20.7303     61.255     -0.338      0.735    -140.908      99.448\n",
      "GarageCars             3999.6416   2275.031      1.758      0.079    -463.809    8463.093\n",
      "GarageArea               18.3021      7.882      2.322      0.020       2.838      33.766\n",
      "WoodDeckSF               15.1222      5.865      2.578      0.010       3.615      26.629\n",
      "OpenPorchSF               0.8120     11.555      0.070      0.944     -21.857      23.481\n",
      "EnclosedPorch             3.1184     12.456      0.250      0.802     -21.320      27.557\n",
      "3SsnPorch                34.0542     22.329      1.525      0.127      -9.754      77.863\n",
      "ScreenPorch              35.8712     12.480      2.874      0.004      11.387      60.355\n",
      "PoolArea                684.2617    226.489      3.021      0.003     239.906    1128.618\n",
      "MiscVal                   0.1988      6.106      0.033      0.974     -11.781      12.179\n",
      "MoSold                 -465.6087    244.638     -1.903      0.057    -945.571      14.354\n",
      "YrSold                 -561.5904    514.291     -1.092      0.275   -1570.593     447.412\n",
      "Totalsf                  28.2611      3.539      7.985      0.000      21.318      35.205\n",
      "MSZoning_FV            3.236e+04    1.2e+04      2.700      0.007    8844.560    5.59e+04\n",
      "MSZoning_RH            2.255e+04   1.19e+04      1.899      0.058    -749.559    4.59e+04\n",
      "MSZoning_RL            2.513e+04   1.02e+04      2.461      0.014    5100.362    4.52e+04\n",
      "MSZoning_RM            2.176e+04   9573.290      2.273      0.023    2975.866    4.05e+04\n",
      "Street_Pave            3.325e+04   1.22e+04      2.732      0.006    9369.001    5.71e+04\n",
      "Alley_None            -1385.1743   4208.614     -0.329      0.742   -9642.180    6871.832\n",
      "Alley_Pave             -620.6214   6020.390     -0.103      0.918   -1.24e+04    1.12e+04\n",
      "LotShape_IR2           5005.8630   4206.960      1.190      0.234   -3247.897    1.33e+04\n",
      "LotShape_IR3           5802.5961   8841.520      0.656      0.512   -1.15e+04    2.31e+04\n",
      "LotShape_Reg           1835.5573   1598.412      1.148      0.251   -1300.414    4971.529\n",
      "LandContour_HLS        7554.5338   5114.104      1.477      0.140   -2478.978    1.76e+04\n",
      "LandContour_Low       -1.133e+04   6377.963     -1.776      0.076   -2.38e+04    1184.548\n",
      "LandContour_Lvl        5411.7465   3696.927      1.464      0.143   -1841.364    1.27e+04\n",
      "Utilities_NoSeWa      -3.808e+04   2.63e+04     -1.447      0.148   -8.97e+04    1.35e+04\n",
      "Utilities_None         3.868e-09   2.17e-09      1.785      0.075   -3.84e-10    8.12e-09\n",
      "LotConfig_CulDSac      8280.0991   3304.606      2.506      0.012    1796.694    1.48e+04\n",
      "LotConfig_FR2         -7561.4615   4004.627     -1.888      0.059   -1.54e+04     295.336\n",
      "LotConfig_FR3         -1.686e+04   1.25e+04     -1.344      0.179   -4.15e+04    7742.523\n",
      "LotConfig_Inside      -1315.5598   1788.313     -0.736      0.462   -4824.105    2192.986\n",
      "LandSlope_Mod          7462.4883   3969.898      1.880      0.060    -326.172    1.53e+04\n",
      "LandSlope_Sev          -4.16e+04   1.14e+04     -3.652      0.000    -6.4e+04   -1.93e+04\n",
      "Neighborhood_Blueste   7501.4359   1.92e+04      0.391      0.696   -3.02e+04    4.52e+04\n",
      "Neighborhood_BrDale   -2445.2139   1.09e+04     -0.223      0.823   -2.39e+04     1.9e+04\n",
      "Neighborhood_BrkSide  -5681.0677   9462.770     -0.600      0.548   -2.42e+04    1.29e+04\n",
      "Neighborhood_ClearCr  -1.479e+04   9198.471     -1.608      0.108   -3.28e+04    3256.895\n",
      "Neighborhood_CollgCr  -1.027e+04   7247.088     -1.417      0.157   -2.45e+04    3948.923\n",
      "Neighborhood_Crawfor   1.175e+04   8529.645      1.377      0.169   -4988.257    2.85e+04\n",
      "Neighborhood_Edwards  -2.158e+04   7979.203     -2.704      0.007   -3.72e+04   -5920.980\n",
      "Neighborhood_Gilbert  -1.149e+04   7659.528     -1.500      0.134   -2.65e+04    3539.365\n",
      "Neighborhood_IDOTRR    -1.21e+04   1.07e+04     -1.129      0.259   -3.31e+04    8931.891\n",
      "Neighborhood_MeadowV  -6868.3449   1.12e+04     -0.614      0.539   -2.88e+04    1.51e+04\n",
      "Neighborhood_Mitchel  -2.113e+04   8158.812     -2.590      0.010   -3.71e+04   -5122.452\n",
      "Neighborhood_NAmes    -1.745e+04   7823.042     -2.230      0.026   -3.28e+04   -2100.345\n",
      "Neighborhood_NPkVill   1.374e+04    1.4e+04      0.981      0.327   -1.37e+04    4.12e+04\n",
      "Neighborhood_NWAmes   -1.759e+04   7996.727     -2.200      0.028   -3.33e+04   -1900.247\n",
      "Neighborhood_NoRidge   2.537e+04   8424.784      3.011      0.003    8841.257    4.19e+04\n",
      "Neighborhood_NridgHt   1.792e+04   7508.881      2.386      0.017    3186.211    3.27e+04\n",
      "Neighborhood_OldTown  -1.436e+04   9638.607     -1.490      0.136   -3.33e+04    4545.756\n",
      "Neighborhood_SWISU    -8636.2207   9679.066     -0.892      0.372   -2.76e+04    1.04e+04\n",
      "Neighborhood_Sawyer    -1.13e+04   8108.021     -1.393      0.164   -2.72e+04    4609.697\n",
      "Neighborhood_SawyerW  -3005.5332   7770.682     -0.387      0.699   -1.83e+04    1.22e+04\n",
      "Neighborhood_Somerst  -2445.8304   8995.605     -0.272      0.786   -2.01e+04    1.52e+04\n",
      "Neighborhood_StoneBr   3.918e+04   8272.198      4.737      0.000     2.3e+04    5.54e+04\n",
      "Neighborhood_Timber   -9727.9670   8082.881     -1.204      0.229   -2.56e+04    6130.077\n",
      "Neighborhood_Veenker   -525.4012   1.05e+04     -0.050      0.960   -2.11e+04       2e+04\n",
      "Condition1_Feedr       7203.8280   5007.449      1.439      0.151   -2620.435     1.7e+04\n",
      "Condition1_Norm        1.634e+04   4179.954      3.910      0.000    8142.330    2.45e+04\n",
      "Condition1_PosA        9605.0527      1e+04      0.960      0.337      -1e+04    2.92e+04\n",
      "Condition1_PosN        1.496e+04   7421.677      2.016      0.044     399.896    2.95e+04\n",
      "Condition1_RRAe       -1.545e+04   9051.261     -1.707      0.088   -3.32e+04    2304.121\n",
      "Condition1_RRAn         1.31e+04   6939.804      1.888      0.059    -512.761    2.67e+04\n",
      "Condition1_RRNe       -3535.9344   1.74e+04     -0.203      0.839   -3.78e+04    3.07e+04\n",
      "Condition1_RRNn        1.157e+04   1.28e+04      0.903      0.367   -1.36e+04    3.67e+04\n",
      "Condition2_Feedr      -6034.5731   2.34e+04     -0.258      0.796   -5.19e+04    3.98e+04\n",
      "Condition2_Norm       -1.025e+04   2.03e+04     -0.506      0.613      -5e+04    2.95e+04\n",
      "Condition2_PosA        4.269e+04   3.69e+04      1.155      0.248   -2.98e+04    1.15e+05\n",
      "Condition2_PosN       -2.385e+05   2.76e+04     -8.647      0.000   -2.93e+05   -1.84e+05\n",
      "Condition2_RRAe       -1.277e+05    6.5e+04     -1.966      0.050   -2.55e+05    -239.449\n",
      "Condition2_RRAn       -2.345e+04   3.14e+04     -0.746      0.456   -8.51e+04    3.82e+04\n",
      "Condition2_RRNn       -3041.2668    2.7e+04     -0.113      0.910   -5.61e+04       5e+04\n",
      "BldgType_2fmCon       -3102.8151   1.25e+04     -0.249      0.803   -2.76e+04    2.14e+04\n",
      "BldgType_Duplex       -7001.6620   7401.570     -0.946      0.344   -2.15e+04    7519.698\n",
      "BldgType_Twnhs        -1.878e+04   9998.663     -1.878      0.061   -3.84e+04     839.592\n",
      "BldgType_TwnhsE       -1.475e+04   9016.686     -1.636      0.102   -3.24e+04    2940.137\n",
      "HouseStyle_1.5Unf      1.173e+04   7926.392      1.480      0.139   -3820.465    2.73e+04\n",
      "HouseStyle_1Story      5173.1357   4378.054      1.182      0.238   -3416.298    1.38e+04\n",
      "HouseStyle_2.5Fin     -1.736e+04   1.24e+04     -1.404      0.161   -4.16e+04    6897.323\n",
      "HouseStyle_2.5Unf     -9447.2482   9226.111     -1.024      0.306   -2.75e+04    8653.733\n",
      "HouseStyle_2Story     -6023.6090   3491.445     -1.725      0.085   -1.29e+04     826.361\n",
      "HouseStyle_SFoyer      1229.6385   6247.636      0.197      0.844    -1.1e+04    1.35e+04\n",
      "HouseStyle_SLvl        3861.9726   5545.490      0.696      0.486   -7017.888    1.47e+04\n",
      "RoofStyle_Gable        9505.1907   1.84e+04      0.516      0.606   -2.66e+04    4.56e+04\n",
      "RoofStyle_Gambrel      1.271e+04   2.02e+04      0.630      0.529   -2.69e+04    5.23e+04\n",
      "RoofStyle_Hip          9323.4650   1.85e+04      0.504      0.614    -2.7e+04    4.56e+04\n",
      "RoofStyle_Mansard      2.015e+04   2.14e+04      0.943      0.346   -2.18e+04    6.21e+04\n",
      "RoofStyle_Shed         1.003e+05   3.45e+04      2.910      0.004    3.27e+04    1.68e+05\n",
      "RoofMatl_CompShg       5.714e+05   5.26e+04     10.855      0.000    4.68e+05    6.75e+05\n",
      "RoofMatl_Membran        6.67e+05   6.25e+04     10.668      0.000    5.44e+05     7.9e+05\n",
      "RoofMatl_Metal         6.348e+05   6.21e+04     10.224      0.000    5.13e+05    7.57e+05\n",
      "RoofMatl_Roll          5.591e+05   5.83e+04      9.597      0.000    4.45e+05    6.73e+05\n",
      "RoofMatl_Tar&Grv       5.728e+05   5.64e+04     10.147      0.000    4.62e+05    6.84e+05\n",
      "RoofMatl_WdShake       5.627e+05   5.49e+04     10.243      0.000    4.55e+05    6.71e+05\n",
      "RoofMatl_WdShngl       6.263e+05   5.36e+04     11.678      0.000    5.21e+05    7.31e+05\n",
      "Exterior1st_AsphShn   -2.438e+04   3.29e+04     -0.740      0.459    -8.9e+04    4.02e+04\n",
      "Exterior1st_BrkComm   -2847.9584   2.77e+04     -0.103      0.918   -5.73e+04    5.16e+04\n",
      "Exterior1st_BrkFace    7684.3063   1.28e+04      0.602      0.547   -1.73e+04    3.27e+04\n",
      "Exterior1st_CBlock    -7067.5229   1.36e+04     -0.519      0.604   -3.38e+04    1.96e+04\n",
      "Exterior1st_CemntBd     -1.2e+04    1.9e+04     -0.631      0.528   -4.93e+04    2.53e+04\n",
      "Exterior1st_HdBoard   -1.302e+04   1.29e+04     -1.007      0.314   -3.84e+04    1.24e+04\n",
      "Exterior1st_ImStucc   -2.214e+04   2.81e+04     -0.787      0.431   -7.73e+04     3.3e+04\n",
      "Exterior1st_MetalSd   -5983.5951   1.46e+04     -0.410      0.682   -3.46e+04    2.26e+04\n",
      "Exterior1st_Plywood   -1.388e+04   1.28e+04     -1.088      0.277   -3.89e+04    1.12e+04\n",
      "Exterior1st_Stone     -1245.5139   2.43e+04     -0.051      0.959   -4.88e+04    4.64e+04\n",
      "Exterior1st_Stucco    -7338.4762   1.41e+04     -0.521      0.602    -3.5e+04    2.03e+04\n",
      "Exterior1st_VinylSd   -1.409e+04   1.33e+04     -1.057      0.291   -4.02e+04    1.21e+04\n",
      "Exterior1st_Wd Sdng   -1.394e+04   1.24e+04     -1.126      0.260   -3.82e+04    1.03e+04\n",
      "Exterior1st_WdShing   -9530.5702   1.34e+04     -0.713      0.476   -3.58e+04    1.67e+04\n",
      "Exterior2nd_AsphShn    1.166e+04   2.22e+04      0.526      0.599   -3.19e+04    5.52e+04\n",
      "Exterior2nd_Brk Cmn    4788.0654      2e+04      0.239      0.811   -3.45e+04    4.41e+04\n",
      "Exterior2nd_BrkFace    4043.2690   1.32e+04      0.306      0.760   -2.19e+04       3e+04\n",
      "Exterior2nd_CBlock    -7067.5229   1.36e+04     -0.519      0.604   -3.38e+04    1.96e+04\n",
      "Exterior2nd_CmentBd    1.253e+04   1.87e+04      0.670      0.503   -2.42e+04    4.92e+04\n",
      "Exterior2nd_HdBoard    8237.9191   1.24e+04      0.663      0.507   -1.61e+04    3.26e+04\n",
      "Exterior2nd_ImStucc      1.7e+04   1.43e+04      1.186      0.236   -1.11e+04    4.51e+04\n",
      "Exterior2nd_MetalSd    5872.4700   1.42e+04      0.414      0.679    -2.2e+04    3.37e+04\n",
      "Exterior2nd_Other     -1.787e+04   2.71e+04     -0.660      0.509   -7.09e+04    3.52e+04\n",
      "Exterior2nd_Plywood    6562.0740   1.21e+04      0.544      0.586   -1.71e+04    3.02e+04\n",
      "Exterior2nd_Stone      -1.11e+04   1.71e+04     -0.649      0.517   -4.47e+04    2.25e+04\n",
      "Exterior2nd_Stucco     5675.7365   1.36e+04      0.417      0.677    -2.1e+04    3.24e+04\n",
      "Exterior2nd_VinylSd    1.311e+04   1.28e+04      1.024      0.306    -1.2e+04    3.82e+04\n",
      "Exterior2nd_Wd Sdng    1.198e+04   1.19e+04      1.003      0.316   -1.15e+04    3.54e+04\n",
      "Exterior2nd_Wd Shng    5480.4350   1.25e+04      0.440      0.660    -1.9e+04    2.99e+04\n",
      "MasVnrType_BrkFace     4130.4344   6824.645      0.605      0.545   -9259.040    1.75e+04\n",
      "MasVnrType_None        7248.1654   6896.305      1.051      0.293   -6281.901    2.08e+04\n",
      "MasVnrType_Stone       9336.8936   7224.781      1.292      0.196   -4837.618    2.35e+04\n",
      "ExterQual_Fa          -7411.5811   1.11e+04     -0.669      0.503   -2.91e+04    1.43e+04\n",
      "ExterQual_Gd          -2.072e+04   4770.555     -4.343      0.000   -3.01e+04   -1.14e+04\n",
      "ExterQual_TA          -1.995e+04   5287.573     -3.772      0.000   -3.03e+04   -9572.305\n",
      "ExterCond_Fa          -2799.2105    1.8e+04     -0.155      0.877   -3.82e+04    3.26e+04\n",
      "ExterCond_Gd          -7272.0085   1.72e+04     -0.423      0.673    -4.1e+04    2.65e+04\n",
      "ExterCond_Po           7686.0135   3.16e+04      0.243      0.808   -5.43e+04    6.97e+04\n",
      "ExterCond_TA          -4247.4785   1.72e+04     -0.247      0.805   -3.79e+04    2.95e+04\n",
      "Foundation_CBlock      2885.2741   3165.636      0.911      0.362   -3325.482    9096.030\n",
      "Foundation_PConc       4003.0958   3413.420      1.173      0.241   -2693.794    1.07e+04\n",
      "Foundation_Slab       -7074.4173      1e+04     -0.706      0.481   -2.67e+04    1.26e+04\n",
      "Foundation_Stone       9789.8626   1.14e+04      0.860      0.390   -1.25e+04    3.21e+04\n",
      "Foundation_Wood       -2.721e+04   1.48e+04     -1.842      0.066   -5.62e+04    1765.750\n",
      "BsmtQual_Fa           -1.139e+04   6339.207     -1.797      0.073   -2.38e+04    1043.395\n",
      "BsmtQual_Gd           -1.795e+04   3331.262     -5.389      0.000   -2.45e+04   -1.14e+04\n",
      "BsmtQual_None          1.242e+04   1.22e+04      1.019      0.308   -1.15e+04    3.63e+04\n",
      "BsmtQual_TA           -1.417e+04   4142.939     -3.421      0.001   -2.23e+04   -6046.651\n",
      "BsmtCond_Gd             -26.1814   5268.780     -0.005      0.996   -1.04e+04    1.03e+04\n",
      "BsmtCond_None          1.242e+04   1.22e+04      1.019      0.308   -1.15e+04    3.63e+04\n",
      "BsmtCond_Po            6.732e+04   2.98e+04      2.262      0.024    8926.937    1.26e+05\n",
      "BsmtCond_TA            2710.1206   4238.701      0.639      0.523   -5605.913     1.1e+04\n",
      "BsmtExposure_Gd        1.427e+04   2992.083      4.770      0.000    8400.814    2.01e+04\n",
      "BsmtExposure_Mn       -3496.1850   3012.495     -1.161      0.246   -9406.489    2414.119\n",
      "BsmtExposure_No       -5169.1201   2173.209     -2.379      0.018   -9432.804    -905.436\n",
      "BsmtExposure_None     -1.085e+04    2.3e+04     -0.473      0.637   -5.59e+04    3.42e+04\n",
      "BsmtFinType1_BLQ       2941.6922   2794.280      1.053      0.293   -2540.489    8423.874\n",
      "BsmtFinType1_GLQ       5622.3923   2516.991      2.234      0.026     684.233    1.06e+04\n",
      "BsmtFinType1_LwQ      -3257.4089   3739.311     -0.871      0.384   -1.06e+04    4078.856\n",
      "BsmtFinType1_None      1.242e+04   1.22e+04      1.019      0.308   -1.15e+04    3.63e+04\n",
      "BsmtFinType1_Rec        186.9517   2995.261      0.062      0.950   -5689.540    6063.444\n",
      "BsmtFinType1_Unf       2807.2789   2907.904      0.965      0.335   -2897.824    8512.382\n",
      "BsmtFinType2_BLQ      -1.287e+04   7553.151     -1.704      0.089   -2.77e+04    1951.517\n",
      "BsmtFinType2_GLQ      -2516.3313   9336.764     -0.270      0.788   -2.08e+04    1.58e+04\n",
      "BsmtFinType2_LwQ      -1.396e+04   7382.223     -1.891      0.059   -2.84e+04     525.359\n",
      "BsmtFinType2_None      -2.83e+04   2.49e+04     -1.135      0.257   -7.72e+04    2.06e+04\n",
      "BsmtFinType2_Rec      -9942.3793   7096.317     -1.401      0.161   -2.39e+04    3980.097\n",
      "BsmtFinType2_Unf      -7980.2685   7560.393     -1.056      0.291   -2.28e+04    6852.692\n",
      "Heating_GasA           8640.0946   2.55e+04      0.339      0.735   -4.14e+04    5.87e+04\n",
      "Heating_GasW           6266.8066   2.63e+04      0.238      0.812   -4.53e+04    5.79e+04\n",
      "Heating_Grav            743.2298    2.8e+04      0.027      0.979   -5.42e+04    5.57e+04\n",
      "Heating_OthW          -1.163e+04   3.15e+04     -0.370      0.712   -7.33e+04    5.01e+04\n",
      "Heating_Wall           2.179e+04   2.97e+04      0.734      0.463   -3.64e+04       8e+04\n",
      "HeatingQC_Fa            728.8378   4708.505      0.155      0.877   -8508.918    9966.594\n",
      "HeatingQC_Gd          -3931.7931   2062.239     -1.907      0.057   -7977.761     114.175\n",
      "HeatingQC_Po           2117.6034   2.65e+04      0.080      0.936   -4.99e+04    5.41e+04\n",
      "HeatingQC_TA          -3197.4669   2066.243     -1.547      0.122   -7251.291     856.357\n",
      "CentralAir_Y           -171.3861   3860.773     -0.044      0.965   -7745.951    7403.179\n",
      "Electrical_FuseF         48.1476   5741.857      0.008      0.993   -1.12e+04    1.13e+04\n",
      "Electrical_FuseP      -8439.7585   1.86e+04     -0.454      0.650   -4.49e+04     2.8e+04\n",
      "Electrical_Mix         -4.23e+04   4.44e+04     -0.953      0.341   -1.29e+05    4.48e+04\n",
      "Electrical_SBrkr      -2105.4065   2944.536     -0.715      0.475   -7882.379    3671.566\n",
      "KitchenQual_Fa        -1.986e+04   6189.813     -3.209      0.001    -3.2e+04   -7716.170\n",
      "KitchenQual_Gd        -2.359e+04   3473.489     -6.790      0.000   -3.04e+04   -1.68e+04\n",
      "KitchenQual_TA        -2.264e+04   3917.110     -5.780      0.000   -3.03e+04    -1.5e+04\n",
      "Functional_Maj2       -1376.9845   1.44e+04     -0.096      0.924   -2.95e+04    2.68e+04\n",
      "Functional_Min1        7090.0930   8585.999      0.826      0.409   -9755.035    2.39e+04\n",
      "Functional_Min2        8577.7309   8613.360      0.996      0.320   -8321.076    2.55e+04\n",
      "Functional_Mod        -5171.0957   1.05e+04     -0.491      0.624   -2.58e+04    1.55e+04\n",
      "Functional_Sev        -4.025e+04   2.95e+04     -1.364      0.173   -9.81e+04    1.76e+04\n",
      "Functional_Typ          1.82e+04   7445.140      2.444      0.015    3588.434    3.28e+04\n",
      "FireplaceQu_Fa         -927.5945   6870.148     -0.135      0.893   -1.44e+04    1.26e+04\n",
      "FireplaceQu_Gd         2694.4943   5311.097      0.507      0.612   -7725.504    1.31e+04\n",
      "FireplaceQu_None       8692.7606   6216.531      1.398      0.162   -3503.635    2.09e+04\n",
      "FireplaceQu_Po         1.218e+04   7899.451      1.542      0.123   -3320.585    2.77e+04\n",
      "FireplaceQu_TA         3686.9385   5521.000      0.668      0.504   -7144.876    1.45e+04\n",
      "GarageType_Attchd      1.987e+04    1.1e+04      1.805      0.071   -1724.963    4.15e+04\n",
      "GarageType_Basment     2.443e+04   1.28e+04      1.916      0.056    -587.387    4.95e+04\n",
      "GarageType_BuiltIn     1.976e+04   1.15e+04      1.723      0.085   -2746.609    4.23e+04\n",
      "GarageType_CarPort     2.474e+04   1.47e+04      1.686      0.092   -4049.517    5.35e+04\n",
      "GarageType_Detchd      2.285e+04    1.1e+04      2.076      0.038    1254.055    4.45e+04\n",
      "GarageType_None       -4386.9993   3.05e+04     -0.144      0.886   -6.42e+04    5.54e+04\n",
      "GarageFinish_None     -4386.9993   3.05e+04     -0.144      0.886   -6.42e+04    5.54e+04\n",
      "GarageFinish_RFn      -2399.6492   1957.252     -1.226      0.220   -6239.640    1440.342\n",
      "GarageFinish_Unf       -646.7485   2423.284     -0.267      0.790   -5401.062    4107.565\n",
      "GarageQual_Fa         -1.248e+05   3.01e+04     -4.146      0.000   -1.84e+05   -6.58e+04\n",
      "GarageQual_Gd         -1.199e+05   3.09e+04     -3.879      0.000   -1.81e+05   -5.93e+04\n",
      "GarageQual_None       -4386.9993   3.05e+04     -0.144      0.886   -6.42e+04    5.54e+04\n",
      "GarageQual_Po         -1.423e+05   3.84e+04     -3.708      0.000   -2.18e+05    -6.7e+04\n",
      "GarageQual_TA         -1.188e+05   2.98e+04     -3.984      0.000   -1.77e+05   -6.03e+04\n",
      "GarageCond_Fa          1.116e+05   3.47e+04      3.214      0.001    4.35e+04     1.8e+05\n",
      "GarageCond_Gd          1.106e+05   3.61e+04      3.067      0.002    3.99e+04    1.81e+05\n",
      "GarageCond_None       -4386.9993   3.05e+04     -0.144      0.886   -6.42e+04    5.54e+04\n",
      "GarageCond_Po          1.176e+05   3.73e+04      3.156      0.002    4.45e+04    1.91e+05\n",
      "GarageCond_TA          1.134e+05   3.44e+04      3.293      0.001    4.58e+04    1.81e+05\n",
      "PavedDrive_P          -3458.9560   5542.695     -0.624      0.533   -1.43e+04    7415.422\n",
      "PavedDrive_Y           -204.8407   3455.815     -0.059      0.953   -6984.907    6575.225\n",
      "PoolQC_Fa             -1.579e+05   4.08e+04     -3.868      0.000   -2.38e+05   -7.78e+04\n",
      "PoolQC_Gd             -1.282e+05   3.68e+04     -3.483      0.001      -2e+05    -5.6e+04\n",
      "PoolQC_None            2.543e+05   1.23e+05      2.075      0.038    1.38e+04    4.95e+05\n",
      "Fence_GdWo             7959.9088   4899.547      1.625      0.105   -1652.657    1.76e+04\n",
      "Fence_MnPrv            9450.0176   3998.172      2.364      0.018    1605.885    1.73e+04\n",
      "Fence_MnWw             3142.3148   8202.208      0.383      0.702   -1.29e+04    1.92e+04\n",
      "Fence_None             8891.1237   3665.713      2.425      0.015    1699.252    1.61e+04\n",
      "MiscFeature_None       3568.3704   9.71e+04      0.037      0.971   -1.87e+05    1.94e+05\n",
      "MiscFeature_Othr       1.778e+04   9.06e+04      0.196      0.844    -1.6e+05    1.96e+05\n",
      "MiscFeature_Shed       5835.8595    9.3e+04      0.063      0.950   -1.77e+05    1.88e+05\n",
      "MiscFeature_TenC       3.519e+04   9.64e+04      0.365      0.715   -1.54e+05    2.24e+05\n",
      "SaleType_CWD           1.532e+04   1.28e+04      1.194      0.233   -9860.037    4.05e+04\n",
      "SaleType_Con           2.573e+04   1.75e+04      1.469      0.142   -8641.376    6.01e+04\n",
      "SaleType_ConLD         1.637e+04   9670.425      1.693      0.091   -2598.135    3.53e+04\n",
      "SaleType_ConLI         4208.7423   1.15e+04      0.365      0.715   -1.84e+04    2.68e+04\n",
      "SaleType_ConLw         1105.5844   1.21e+04      0.091      0.927   -2.27e+04    2.49e+04\n",
      "SaleType_New           2.112e+04   1.54e+04      1.372      0.170   -9082.155    5.13e+04\n",
      "SaleType_Oth           7433.1505   1.45e+04      0.514      0.607   -2.09e+04    3.58e+04\n",
      "SaleType_WD            -340.1097   4170.408     -0.082      0.935   -8522.158    7841.938\n",
      "SaleCondition_AdjLand  9408.7293   1.46e+04      0.645      0.519   -1.92e+04     3.8e+04\n",
      "SaleCondition_Alloca    694.9066   8845.765      0.079      0.937   -1.67e+04     1.8e+04\n",
      "SaleCondition_Family    827.8312   6078.949      0.136      0.892   -1.11e+04    1.28e+04\n",
      "SaleCondition_Normal   6699.4889   2900.205      2.310      0.021    1009.491    1.24e+04\n",
      "SaleCondition_Partial  -151.9453   1.48e+04     -0.010      0.992   -2.92e+04    2.89e+04\n",
      "==============================================================================\n",
      "Omnibus:                      402.083   Durbin-Watson:                   1.920\n",
      "Prob(Omnibus):                  0.000   Jarque-Bera (JB):            14548.617\n",
      "Skew:                           0.571   Prob(JB):                         0.00\n",
      "Kurtosis:                      18.422   Cond. No.                     1.29e+17\n",
      "==============================================================================\n",
      "\n",
      "Notes:\n",
      "[1] Standard Errors assume that the covariance matrix of the errors is correctly specified.\n",
      "[2] The smallest eigenvalue is  2e-23. This might indicate that there are\n",
      "strong multicollinearity problems or that the design matrix is singular.\n"
     ]
    }
   ],
   "source": [
    "# Model Performace - statsmodel\n",
    "X_add_const = sms.add_constant(train_X)\n",
    "OLS = sms.OLS(train_y, X_add_const)\n",
    "ans1 = OLS.fit()\n",
    "print(ans1.summary())"
   ]
  },
  {
   "cell_type": "code",
   "execution_count": 10,
   "id": "dd14ce6f",
   "metadata": {},
   "outputs": [
    {
     "data": {
      "image/png": "[encoded data removed]",
      "text/plain": [
       "<Figure size 864x720 with 4 Axes>"
      ]
     },
     "metadata": {},
     "output_type": "display_data"
    }
   ],
   "source": [
    "# checking assumptions\n",
    "diagnostic_plots(ans1, train_X, train_y, return_high_leverage=False)\n",
    "# heter, normality, influential points "
   ]
  },
  {
   "cell_type": "markdown",
   "id": "fe47b234",
   "metadata": {},
   "source": [
    "## Outliers detection and removal"
   ]
  },
  {
   "cell_type": "code",
   "execution_count": 11,
   "id": "d8ef8e48",
   "metadata": {},
   "outputs": [],
   "source": [
    "# Outiler detection \n",
    "influence = ans1.get_influence()\n",
    "pd.Series(influence.hat_matrix_diag).describe()\n",
    "## get_influence() gets an instance of Influence with influence and outlier measures.\n",
    "\n",
    "# show how to obtain studentized residuals, Cook’s Distances, DFFITS and leverage values. \n",
    "# The influence.summay_frame() provides these values automatically.\n",
    "inf_sum = influence.summary_frame()\n",
    "inf_sum.head(3)\n",
    "student_resid = influence.resid_studentized_external # studentize residual\n",
    "cooks, p1 = influence.cooks_distance # Cook's Distances\n",
    "dffits, p2 = influence.dffits # DFFIT \n",
    "leverage = influence.hat_matrix_diag"
   ]
  },
  {
   "cell_type": "code",
   "execution_count": 12,
   "id": "73f1fe15",
   "metadata": {},
   "outputs": [
    {
     "name": "stdout",
     "output_type": "stream",
     "text": [
      "Leverage vs. Studentized Residuals\n"
     ]
    },
    {
     "data": {
      "text/plain": [
       "Text(0, 0.5, 'Studentized Residuals')"
      ]
     },
     "execution_count": 12,
     "metadata": {},
     "output_type": "execute_result"
    },
    {
     "data": {
      "image/png": "[encoded data removed]",
      "text/plain": [
       "<Figure size 432x288 with 1 Axes>"
      ]
     },
     "metadata": {},
     "output_type": "display_data"
    }
   ],
   "source": [
    "# Leverage vs residuals, a few high-residual point\n",
    "print ('Leverage vs. Studentized Residuals')\n",
    "sns.regplot(leverage, ans1.resid_pearson,  fit_reg=False)\n",
    "plt.title('Leverage vs. Studentized Residuals')\n",
    "plt.xlabel('Leverage')\n",
    "plt.ylabel('Studentized Residuals')\n",
    "# signs of high leverage and high residual points"
   ]
  },
  {
   "cell_type": "code",
   "execution_count": 13,
   "id": "e82f269c",
   "metadata": {},
   "outputs": [
    {
     "data": {
      "text/html": [
       "<div>\n",
       "<style scoped>\n",
       "    .dataframe tbody tr th:only-of-type {\n",
       "        vertical-align: middle;\n",
       "    }\n",
       "\n",
       "    .dataframe tbody tr th {\n",
       "        vertical-align: top;\n",
       "    }\n",
       "\n",
       "    .dataframe thead th {\n",
       "        text-align: right;\n",
       "    }\n",
       "</style>\n",
       "<table border=\"1\" class=\"dataframe\">\n",
       "  <thead>\n",
       "    <tr style=\"text-align: right;\">\n",
       "      <th></th>\n",
       "      <th>SalePrice</th>\n",
       "      <th>dfb_const</th>\n",
       "      <th>dfb_MSSubClass</th>\n",
       "      <th>dfb_LotFrontage</th>\n",
       "      <th>dfb_LotArea</th>\n",
       "      <th>dfb_OverallQual</th>\n",
       "      <th>dfb_OverallCond</th>\n",
       "      <th>dfb_YearBuilt</th>\n",
       "      <th>dfb_YearRemodAdd</th>\n",
       "      <th>dfb_MasVnrArea</th>\n",
       "      <th>...</th>\n",
       "      <th>dfb_SaleCondition_Alloca</th>\n",
       "      <th>dfb_SaleCondition_Family</th>\n",
       "      <th>dfb_SaleCondition_Normal</th>\n",
       "      <th>dfb_SaleCondition_Partial</th>\n",
       "      <th>cooks_d</th>\n",
       "      <th>standard_resid</th>\n",
       "      <th>leverage</th>\n",
       "      <th>dffits_internal</th>\n",
       "      <th>student_resid</th>\n",
       "      <th>dffits</th>\n",
       "    </tr>\n",
       "  </thead>\n",
       "  <tbody>\n",
       "    <tr>\n",
       "      <th>0</th>\n",
       "      <td>208500</td>\n",
       "      <td>-0.000048</td>\n",
       "      <td>-0.000087</td>\n",
       "      <td>0.000089</td>\n",
       "      <td>-0.000014</td>\n",
       "      <td>-0.000065</td>\n",
       "      <td>0.000038</td>\n",
       "      <td>-0.000018</td>\n",
       "      <td>3.760848e-07</td>\n",
       "      <td>0.000003</td>\n",
       "      <td>...</td>\n",
       "      <td>0.000039</td>\n",
       "      <td>-0.000014</td>\n",
       "      <td>-0.000015</td>\n",
       "      <td>0.000022</td>\n",
       "      <td>5.580142e-09</td>\n",
       "      <td>-0.007663</td>\n",
       "      <td>0.024292</td>\n",
       "      <td>-0.001209</td>\n",
       "      <td>-0.007660</td>\n",
       "      <td>-0.001209</td>\n",
       "    </tr>\n",
       "    <tr>\n",
       "      <th>1</th>\n",
       "      <td>181500</td>\n",
       "      <td>0.015545</td>\n",
       "      <td>0.001170</td>\n",
       "      <td>-0.009364</td>\n",
       "      <td>0.025545</td>\n",
       "      <td>-0.016078</td>\n",
       "      <td>-0.069418</td>\n",
       "      <td>-0.010822</td>\n",
       "      <td>4.580954e-02</td>\n",
       "      <td>0.010333</td>\n",
       "      <td>...</td>\n",
       "      <td>-0.011648</td>\n",
       "      <td>-0.000024</td>\n",
       "      <td>-0.001912</td>\n",
       "      <td>0.028857</td>\n",
       "      <td>1.223512e-03</td>\n",
       "      <td>-1.175523</td>\n",
       "      <td>0.188297</td>\n",
       "      <td>-0.566180</td>\n",
       "      <td>-1.175709</td>\n",
       "      <td>-0.566270</td>\n",
       "    </tr>\n",
       "    <tr>\n",
       "      <th>2</th>\n",
       "      <td>223500</td>\n",
       "      <td>-0.006600</td>\n",
       "      <td>0.001851</td>\n",
       "      <td>-0.009421</td>\n",
       "      <td>0.021040</td>\n",
       "      <td>-0.007098</td>\n",
       "      <td>-0.005505</td>\n",
       "      <td>-0.004003</td>\n",
       "      <td>9.274350e-03</td>\n",
       "      <td>-0.012130</td>\n",
       "      <td>...</td>\n",
       "      <td>0.002561</td>\n",
       "      <td>0.010413</td>\n",
       "      <td>0.000977</td>\n",
       "      <td>0.000069</td>\n",
       "      <td>9.947859e-05</td>\n",
       "      <td>0.810471</td>\n",
       "      <td>0.038164</td>\n",
       "      <td>0.161442</td>\n",
       "      <td>0.810356</td>\n",
       "      <td>0.161419</td>\n",
       "    </tr>\n",
       "    <tr>\n",
       "      <th>3</th>\n",
       "      <td>140000</td>\n",
       "      <td>-0.006601</td>\n",
       "      <td>0.007372</td>\n",
       "      <td>0.028673</td>\n",
       "      <td>0.007669</td>\n",
       "      <td>-0.043515</td>\n",
       "      <td>0.078936</td>\n",
       "      <td>0.061514</td>\n",
       "      <td>2.712142e-02</td>\n",
       "      <td>-0.004275</td>\n",
       "      <td>...</td>\n",
       "      <td>0.044722</td>\n",
       "      <td>0.045409</td>\n",
       "      <td>0.128023</td>\n",
       "      <td>0.012893</td>\n",
       "      <td>1.297666e-03</td>\n",
       "      <td>-1.221388</td>\n",
       "      <td>0.185606</td>\n",
       "      <td>-0.583085</td>\n",
       "      <td>-1.221637</td>\n",
       "      <td>-0.583204</td>\n",
       "    </tr>\n",
       "    <tr>\n",
       "      <th>4</th>\n",
       "      <td>250000</td>\n",
       "      <td>0.010405</td>\n",
       "      <td>0.001477</td>\n",
       "      <td>0.023187</td>\n",
       "      <td>-0.024592</td>\n",
       "      <td>-0.039122</td>\n",
       "      <td>0.011499</td>\n",
       "      <td>0.000576</td>\n",
       "      <td>-1.660118e-02</td>\n",
       "      <td>0.026507</td>\n",
       "      <td>...</td>\n",
       "      <td>-0.015197</td>\n",
       "      <td>-0.013294</td>\n",
       "      <td>-0.015960</td>\n",
       "      <td>0.023028</td>\n",
       "      <td>1.097962e-03</td>\n",
       "      <td>-1.932028</td>\n",
       "      <td>0.071552</td>\n",
       "      <td>-0.536345</td>\n",
       "      <td>-1.934218</td>\n",
       "      <td>-0.536953</td>\n",
       "    </tr>\n",
       "  </tbody>\n",
       "</table>\n",
       "<p>5 rows × 269 columns</p>\n",
       "</div>"
      ],
      "text/plain": [
       "   SalePrice  dfb_const  dfb_MSSubClass  dfb_LotFrontage  dfb_LotArea  \\\n",
       "0     208500  -0.000048       -0.000087         0.000089    -0.000014   \n",
       "1     181500   0.015545        0.001170        -0.009364     0.025545   \n",
       "2     223500  -0.006600        0.001851        -0.009421     0.021040   \n",
       "3     140000  -0.006601        0.007372         0.028673     0.007669   \n",
       "4     250000   0.010405        0.001477         0.023187    -0.024592   \n",
       "\n",
       "   dfb_OverallQual  dfb_OverallCond  dfb_YearBuilt  dfb_YearRemodAdd  \\\n",
       "0        -0.000065         0.000038      -0.000018      3.760848e-07   \n",
       "1        -0.016078        -0.069418      -0.010822      4.580954e-02   \n",
       "2        -0.007098        -0.005505      -0.004003      9.274350e-03   \n",
       "3        -0.043515         0.078936       0.061514      2.712142e-02   \n",
       "4        -0.039122         0.011499       0.000576     -1.660118e-02   \n",
       "\n",
       "   dfb_MasVnrArea  ...  dfb_SaleCondition_Alloca  dfb_SaleCondition_Family  \\\n",
       "0        0.000003  ...                  0.000039                 -0.000014   \n",
       "1        0.010333  ...                 -0.011648                 -0.000024   \n",
       "2       -0.012130  ...                  0.002561                  0.010413   \n",
       "3       -0.004275  ...                  0.044722                  0.045409   \n",
       "4        0.026507  ...                 -0.015197                 -0.013294   \n",
       "\n",
       "   dfb_SaleCondition_Normal  dfb_SaleCondition_Partial       cooks_d  \\\n",
       "0                 -0.000015                   0.000022  5.580142e-09   \n",
       "1                 -0.001912                   0.028857  1.223512e-03   \n",
       "2                  0.000977                   0.000069  9.947859e-05   \n",
       "3                  0.128023                   0.012893  1.297666e-03   \n",
       "4                 -0.015960                   0.023028  1.097962e-03   \n",
       "\n",
       "   standard_resid  leverage  dffits_internal  student_resid    dffits  \n",
       "0       -0.007663  0.024292        -0.001209      -0.007660 -0.001209  \n",
       "1       -1.175523  0.188297        -0.566180      -1.175709 -0.566270  \n",
       "2        0.810471  0.038164         0.161442       0.810356  0.161419  \n",
       "3       -1.221388  0.185606        -0.583085      -1.221637 -0.583204  \n",
       "4       -1.932028  0.071552        -0.536345      -1.934218 -0.536953  \n",
       "\n",
       "[5 rows x 269 columns]"
      ]
     },
     "execution_count": 13,
     "metadata": {},
     "output_type": "execute_result"
    }
   ],
   "source": [
    "#Concat \"Saleprice\" and the resulting residual table\n",
    "#Note that hat_diag is leverage, change the ciolumn heading from hat_diag to leverage\n",
    "influence_sum = pd.concat([train_y, inf_sum], axis = 1)\n",
    "influence_sum = influence_sum.rename(columns={'hat_diag': 'leverage'})\n",
    "influence_sum.head()"
   ]
  },
  {
   "cell_type": "markdown",
   "id": "6e3a72ea",
   "metadata": {},
   "source": [
    "## Studentized Residuals and leverage\n",
    "* studentized residuals for identifying outliers\n",
    "* studentized residuals that exceed +2 or -2 are concerning\n",
    "* studentized residuals that exceed +3 or -3 are extremely concerning\n",
    "* If an observation has a studentized residual that is larger than 3 (in absolute value) we can call it an outlier\n",
    "* large residual and large leverage = INFLUENTIAL"
   ]
  },
  {
   "cell_type": "code",
   "execution_count": 14,
   "id": "99041990",
   "metadata": {},
   "outputs": [],
   "source": [
    "stud_resid = influence_sum.student_resid\n",
    "stud_resid_index = [*influence_sum.SalePrice[abs(stud_resid) > 3].index]"
   ]
  },
  {
   "cell_type": "code",
   "execution_count": 15,
   "id": "d03b868a",
   "metadata": {},
   "outputs": [],
   "source": [
    "# Identify high leverage\n",
    "p = train_X.shape[1] + 1 # All parameters including intercept\n",
    "n = train_X.shape[0] # n numbers of observations\n",
    "thred = 3 # 2 or 3. \n",
    "\n",
    "cut_off = thred * (p / n) # Variations\n",
    "leverages = influence_sum.leverage\n",
    "\n",
    "high_leverages_index = [*influence_sum.SalePrice[abs(leverages) > cut_off].index]"
   ]
  },
  {
   "cell_type": "code",
   "execution_count": 16,
   "id": "0325c58c",
   "metadata": {},
   "outputs": [
    {
     "data": {
      "text/plain": [
       "[197, 523, 825, 1170, 1182, 1423]"
      ]
     },
     "execution_count": 16,
     "metadata": {},
     "output_type": "execute_result"
    }
   ],
   "source": [
    "outl = pd.DataFrame(influence_sum.SalePrice[abs(stud_resid) > 3]) \n",
    "lev = pd.DataFrame(influence_sum.SalePrice[abs(leverage) > cut_off])\n",
    "\n",
    "Influential = pd.merge(outl,lev, left_index=True, right_index=True)\n",
    "outlier = [*Influential.index]\n",
    "outlier"
   ]
  },
  {
   "cell_type": "markdown",
   "id": "c052a971",
   "metadata": {},
   "source": [
    "## DFFITS, COOK, and One correlation test"
   ]
  },
  {
   "cell_type": "code",
   "execution_count": 17,
   "id": "ddd957c7",
   "metadata": {},
   "outputs": [
    {
     "name": "stdout",
     "output_type": "stream",
     "text": [
      "[11, 30, 66, 70, 88, 93, 107, 120, 129, 153, 190, 197, 218, 237, 250, 253, 271, 298, 318, 326, 328, 335, 367, 377, 410, 412, 440, 457, 462, 469, 473, 479, 523, 529, 568, 574, 581, 582, 588, 595, 608, 629, 632, 662, 664, 666, 681, 688, 691, 693, 705, 716, 736, 740, 747, 762, 769, 774, 803, 809, 810, 825, 873, 885, 898, 913, 948, 955, 970, 1000, 1003, 1044, 1046, 1138, 1169, 1170, 1173, 1180, 1181, 1182, 1187, 1211, 1267, 1275, 1292, 1312, 1321, 1324, 1359, 1386, 1387, 1423]\n"
     ]
    }
   ],
   "source": [
    "# DFFITS\n",
    "p = train_X.shape[1] # k includes all predictors \n",
    "n = train_X.shape[0] # n numbers of observations\n",
    "cut_off_D = 2 * np.sqrt((p + 1) / (n - p - 1))\n",
    "infl = pd.DataFrame(influence_sum.SalePrice[abs(influence_sum.dffits) > cut_off_D])\n",
    "outlier1 = [*infl.index] \n",
    "print(outlier1)"
   ]
  },
  {
   "cell_type": "code",
   "execution_count": 18,
   "id": "ddee719a",
   "metadata": {},
   "outputs": [
    {
     "name": "stdout",
     "output_type": "stream",
     "text": [
      "[11, 30, 66, 70, 88, 93, 107, 120, 129, 153, 175, 190, 197, 218, 237, 249, 250, 253, 261, 271, 298, 318, 326, 328, 335, 367, 377, 380, 410, 412, 440, 457, 462, 469, 473, 479, 496, 523, 529, 568, 574, 581, 582, 588, 595, 608, 629, 632, 662, 664, 666, 676, 681, 688, 691, 693, 705, 716, 736, 740, 747, 762, 769, 774, 803, 809, 810, 812, 825, 828, 873, 885, 898, 913, 948, 954, 955, 970, 1000, 1003, 1044, 1046, 1131, 1138, 1139, 1169, 1170, 1173, 1180, 1181, 1182, 1187, 1200, 1211, 1264, 1267, 1275, 1292, 1312, 1321, 1324, 1359, 1386, 1387, 1423, 1440]\n"
     ]
    }
   ],
   "source": [
    "p = train_X.shape[1] # p includes all predictors \n",
    "n = train_X.shape[0] # n numbers of observations\n",
    "cutoff = 4 / n\n",
    "cook_d = pd.DataFrame((influence_sum.SalePrice[abs(influence_sum.cooks_d) > cutoff]))\n",
    "outlier2 = [*cook_d.index] \n",
    "print(outlier2)"
   ]
  },
  {
   "cell_type": "code",
   "execution_count": 19,
   "id": "173bd4e6",
   "metadata": {},
   "outputs": [
    {
     "data": {
      "image/png": "[encoded data removed]",
      "text/plain": [
       "<Figure size 576x396 with 1 Axes>"
      ]
     },
     "metadata": {},
     "output_type": "display_data"
    },
    {
     "data": {
      "text/plain": [
       "<AxesSubplot:title={'center':\"Cook's Distance Outlier Detection\"}, xlabel='instance index', ylabel='influence (I)'>"
      ]
     },
     "execution_count": 19,
     "metadata": {},
     "output_type": "execute_result"
    }
   ],
   "source": [
    "from yellowbrick.regressor import CooksDistance\n",
    "# Instantiate and fit the visualizer\n",
    "visualizer = CooksDistance()\n",
    "visualizer.fit(train_X,train_y)\n",
    "visualizer.show()"
   ]
  },
  {
   "cell_type": "code",
   "execution_count": 20,
   "id": "4de8ee7a",
   "metadata": {},
   "outputs": [
    {
     "data": {
      "image/png": "[encoded data removed]",
      "text/plain": [
       "<Figure size 1296x720 with 1 Axes>"
      ]
     },
     "metadata": {},
     "output_type": "display_data"
    }
   ],
   "source": [
    "fig, ax = plt.subplots(figsize=(18,10))\n",
    "plot_leverage_resid2(ans1, alpha=0.05, ax = ax)\n",
    "plt.show()"
   ]
  },
  {
   "cell_type": "code",
   "execution_count": 21,
   "id": "6cdf66c0",
   "metadata": {},
   "outputs": [
    {
     "name": "stdout",
     "output_type": "stream",
     "text": [
      "There were 14 outliers at indices:\n",
      "[197, 523, 581, 688, 691, 803, 825, 898, 1046, 1169, 1170, 1182, 1324, 1423]\n"
     ]
    },
    {
     "data": {
      "text/plain": [
       "'\\nThe Bonferroni Outlier Tests uses a t-distribution to test whether the model’s largest studentized residual value’s outlier status is statistically different from the other observations in the model.\\nA significant p-value indicates an extreme outlier that warrants further examination.\\n'"
      ]
     },
     "execution_count": 21,
     "metadata": {},
     "output_type": "execute_result"
    }
   ],
   "source": [
    "# Remove additional outliers\n",
    "ols = sms.OLS(endog = train_y,\n",
    "             exog = train_X)\n",
    "fit = ols.fit()\n",
    "test2 = fit.outlier_test()['bonf(p)']\n",
    "\n",
    "outlier3 = list(test2[test2<1e-2].index)\n",
    "\n",
    "print('There were {:.0f} outliers at indices:'.format(len(outlier3)))\n",
    "print(outlier3)\n",
    "\n",
    "\"\"\"\n",
    "The Bonferroni Outlier Tests uses a t-distribution to test whether the model’s largest studentized residual value’s outlier status is statistically different from the other observations in the model.\n",
    "A significant p-value indicates an extreme outlier that warrants further examination.\n",
    "\"\"\""
   ]
  },
  {
   "cell_type": "code",
   "execution_count": 22,
   "id": "76a9f316",
   "metadata": {},
   "outputs": [
    {
     "name": "stdout",
     "output_type": "stream",
     "text": [
      "0.09064074585904948 -2359.4027140280696 -1049.4484468208902\n",
      "6\n",
      "0.07650226296227902 -2690.494216546158 -1489.640043964184\n",
      "92\n",
      "0.07518321744258777 -2705.3506321889636 -1506.862387890353\n",
      "106\n",
      "0.0880588621702914 -2427.266183026184 -1118.680195151944\n",
      "14\n"
     ]
    }
   ],
   "source": [
    "# Remove outliers\n",
    "from sklearn.linear_model import LinearRegression \n",
    "from sklearn.metrics import mean_squared_error\n",
    "train_x1 = train_X.copy()\n",
    "train_y1 = train_y.copy()\n",
    "indices = [outlier ,outlier1, outlier2, outlier3]\n",
    "for i in range(len(indices)):\n",
    "    X = train_x1.copy().drop(indices[i], axis = 0)\n",
    "    Y = train_y1.copy().drop(indices[i], axis = 0)\n",
    "    model= sms.OLS(np.log(Y), sms.add_constant(X)).fit()\n",
    "    ols = LinearRegression().fit(X, np.log(Y))\n",
    "    MSE = mean_squared_error(np.log(Y), ols.predict(X), squared = False)\n",
    "    print(MSE, model.aic, model.bic)\n",
    "    print(len(indices[i]))\n",
    "# Outlier1 which is Cook Distance reduce MSE the most, also AIC and BIC"
   ]
  },
  {
   "cell_type": "code",
   "execution_count": 23,
   "id": "53f55069",
   "metadata": {},
   "outputs": [],
   "source": [
    "# Remove outliers\n",
    "train_X = train_X.drop(outlier2)\n",
    "train_y = train_y.drop(outlier2)"
   ]
  },
  {
   "cell_type": "markdown",
   "id": "4674f884",
   "metadata": {},
   "source": [
    "## Feature Selection - regression analysis"
   ]
  },
  {
   "cell_type": "code",
   "execution_count": 24,
   "id": "52c7491a",
   "metadata": {},
   "outputs": [],
   "source": [
    "from sklearn.feature_selection import RFECV, SelectKBest,f_regression, mutual_info_regression, VarianceThreshold\n",
    "from sklearn.model_selection import GridSearchCV, cross_val_score,  KFold\n",
    "from sklearn.pipeline import Pipeline\n",
    "from sklearn.decomposition import PCA\n",
    "from sklearn.preprocessing import StandardScaler, RobustScaler\n",
    "kfolds = KFold(n_splits = 10 , shuffle = True, random_state = 42)"
   ]
  },
  {
   "cell_type": "code",
   "execution_count": 26,
   "id": "baa037a5",
   "metadata": {},
   "outputs": [],
   "source": [
    "# PCA \n",
    "train_X_pca = StandardScaler().fit_transform(train_X)"
   ]
  },
  {
   "cell_type": "code",
   "execution_count": 27,
   "id": "e749d053",
   "metadata": {},
   "outputs": [
    {
     "name": "stdout",
     "output_type": "stream",
     "text": [
      "Fitting 10 folds for each of 161 candidates, totalling 1610 fits\n",
      "{'pca__n_components': 197} -0.016304111464681366\n"
     ]
    }
   ],
   "source": [
    "# Gridsearching PCA n_components\n",
    "from sklearn.decomposition import PCA\n",
    "pca = PCA()\n",
    "pipeline = Pipeline(steps=[('pca', pca),\n",
    "                   ('model', LinearRegression())])\n",
    "param_grid = {\n",
    "    'pca__n_components': range(100, 261)\n",
    "}\n",
    "search = GridSearchCV(pipeline, \n",
    "                      param_grid, \n",
    "                      n_jobs = -1,\n",
    "                      cv = kfolds,\n",
    "                      verbose = 3,\n",
    "                      scoring = \"neg_mean_squared_error\"\n",
    "                     )\n",
    "search = search.fit(train_X_pca, np.log(train_y))\n",
    "print(search.best_params_, search.best_score_)\n",
    "# 10 - 203, 202, 191"
   ]
  },
  {
   "cell_type": "code",
   "execution_count": 28,
   "id": "f0c5a6e8",
   "metadata": {},
   "outputs": [
    {
     "name": "stdout",
     "output_type": "stream",
     "text": [
      "0.08139405456622044 0.9531716772961246 0.00662499211872887\n"
     ]
    }
   ],
   "source": [
    "best_components = search.best_params_['pca__n_components']\n",
    "pca.set_params(n_components = best_components)\n",
    "trainx = pca.fit_transform(train_X_pca)\n",
    "############\n",
    "\n",
    "from sklearn.metrics import mean_squared_error\n",
    "ols = LinearRegression()\n",
    "ols.fit(trainx, np.log(train_y))\n",
    "y_true = np.log(train_y)\n",
    "y_pred = ols.predict(trainx)\n",
    "RMSE = mean_squared_error(y_true, y_pred, squared = False)\n",
    "MSE = mean_squared_error(y_true, y_pred, squared = True)\n",
    "R2 = ols.score(trainx, np.log(train_y))\n",
    "print(RMSE, R2, MSE)"
   ]
  },
  {
   "cell_type": "code",
   "execution_count": 30,
   "id": "c3068f51",
   "metadata": {},
   "outputs": [
    {
     "data": {
      "text/plain": [
       "244"
      ]
     },
     "execution_count": 30,
     "metadata": {},
     "output_type": "execute_result"
    }
   ],
   "source": [
    "rfe_mod = RFECV(ols, step=1, cv = kfolds, n_jobs = -1) #RFE(lin_reg, 4, step=1)\n",
    "myvalues=rfe_mod.fit(train_X, np.log(train_y)) #to fit\n",
    "# 10cv - 248, 5 cv = 228, 3cv = 222\n",
    "rankings = pd.DataFrame(myvalues.ranking_)\n",
    "names = pd.DataFrame(train_X.columns)\n",
    "#Concat and name columns\n",
    "ranked = pd.concat([names,rankings], axis = 1)\n",
    "ranked.columns = [\"Feature\", \"Rank\"]\n",
    "ranked = ranked.set_index(\"Feature\")\n",
    "#Select most important (Only 1's)\n",
    "most_important = ranked[ranked['Rank'] ==1].index\n",
    "myvalues.n_features_"
   ]
  },
  {
   "cell_type": "code",
   "execution_count": 31,
   "id": "ec5e24de",
   "metadata": {},
   "outputs": [
    {
     "name": "stdout",
     "output_type": "stream",
     "text": [
      "Fitting 10 folds for each of 260 candidates, totalling 2600 fits\n"
     ]
    }
   ],
   "source": [
    "pipeline = Pipeline([('selector',SelectKBest(f_regression)),\n",
    "                     ('model',LinearRegression())])\n",
    "pipeline.get_params().keys()\n",
    "search = GridSearchCV(\n",
    "    estimator = pipeline,\n",
    "    param_grid = {'selector__k': range(1, 261, 1),\n",
    "                  },\n",
    "    n_jobs=-1,\n",
    "    scoring=\"neg_mean_squared_error\",\n",
    "    cv = kfolds,\n",
    "    verbose=3)\n",
    "search = search.fit(train_X, np.log(train_y))\n",
    "k = search.best_params_['selector__k']\n",
    "new_x = SelectKBest(f_regression, k = k).fit(train_X, np.log(train_y))\n",
    "new_x = pd.DataFrame(new_x.get_support(indices = False), index = train_X.columns, columns = { 0: \"Select\"})\n",
    "# vif[\"features\"] = train_X.columns\n",
    "f_regression = new_x[new_x[0] == True].index"
   ]
  },
  {
   "cell_type": "code",
   "execution_count": 32,
   "id": "3d99dee1",
   "metadata": {},
   "outputs": [
    {
     "name": "stdout",
     "output_type": "stream",
     "text": [
      "Fitting 10 folds for each of 52 candidates, totalling 520 fits\n",
      "{'selector__k': 216} -0.015814707944178785\n"
     ]
    }
   ],
   "source": [
    "pipeline = Pipeline([('selector',SelectKBest(mutual_info_regression)),\n",
    "                     ('model',LinearRegression())])\n",
    "pipeline.get_params().keys()\n",
    "search = GridSearchCV(\n",
    "    estimator = pipeline,\n",
    "    param_grid = {'selector__k': range(1, 261, 5),\n",
    "                  },\n",
    "    n_jobs=-1,\n",
    "    scoring=\"neg_mean_squared_error\",\n",
    "    cv = kfolds,\n",
    "    verbose=3)\n",
    "search = search.fit(train_X, np.log(train_y))\n",
    "print(search.best_params_, search.best_score_)\n",
    "k = search.best_params_['selector__k']\n",
    "new_x = SelectKBest(mutual_info_regression, k = k).fit(train_X, np.log(train_y))\n",
    "new_x = pd.DataFrame(new_x.get_support(indices = False), index = train_X.columns, columns = { 0: \"Select\"})\n",
    "mutual_info = new_x[new_x[0] == True].index"
   ]
  },
  {
   "cell_type": "code",
   "execution_count": 35,
   "id": "8bf108da",
   "metadata": {},
   "outputs": [
    {
     "name": "stdout",
     "output_type": "stream",
     "text": [
      "0.0060894312582695995 0.07803480799149569 0.9569572541468883 216\n",
      "0.006120494908677146 0.07823359194538589 0.9567376827693568 202\n",
      "0.005833861906015141 0.07637972182467766 0.9587637293677054 244\n"
     ]
    }
   ],
   "source": [
    "train_x1 = train_X.copy()\n",
    "train_y1 = train_y.copy()\n",
    "list_index = [mutual_info, f_regression, most_important]\n",
    "for i in range(len(list_index)):\n",
    "    x = train_x1[list_index[i]]\n",
    "    y = np.log(train_y1)\n",
    "    ols = LinearRegression(n_jobs = -1).fit(x,y)\n",
    "    Score = ols.score(x, y)\n",
    "    MSE = mean_squared_error(y, ols.predict(x))\n",
    "    RMSE = mean_squared_error(y, ols.predict(x), squared=False)\n",
    "    print(MSE ,RMSE, Score, x.shape[1]) \n",
    "# RFECV is better"
   ]
  },
  {
   "cell_type": "code",
   "execution_count": 39,
   "id": "25d96f20",
   "metadata": {},
   "outputs": [],
   "source": [
    "# Using RFE for feature selection\n",
    "train_X = train_X[most_important]"
   ]
  },
  {
   "cell_type": "code",
   "execution_count": 40,
   "id": "56a1d879",
   "metadata": {},
   "outputs": [],
   "source": [
    "# processing for y\n",
    "train_y = np.log(train_y).reset_index()\n",
    "train_y = train_y[\"SalePrice\"]"
   ]
  },
  {
   "cell_type": "code",
   "execution_count": 41,
   "id": "5cb8fc9b",
   "metadata": {},
   "outputs": [
    {
     "name": "stdout",
     "output_type": "stream",
     "text": [
      "SalePrice\n",
      " mean = 2.49\n",
      " median = 2.48 \n",
      " standard deviation = 0.03 \n",
      " skew = -0.12 \n",
      " kurtosis = 0.76\n"
     ]
    }
   ],
   "source": [
    "mean = train_y.mean()\n",
    "med = train_y.median()\n",
    "std = train_y.std()\n",
    "skew = train_y.skew()\n",
    "kurt = train_y.kurt()\n",
    "print('SalePrice\\n mean = {:.2f}\\n median = {:.2f} \\n standard deviation = {:.2f} \\n skew = {:.2f} \\n kurtosis = {:.2f}'.format(mean, med, std, skew, kurt))"
   ]
  },
  {
   "cell_type": "code",
   "execution_count": 42,
   "id": "22eca2d6",
   "metadata": {},
   "outputs": [],
   "source": [
    "# Apply power transofrmation on X \n",
    "train_X1 = train_X.copy()\n",
    "from sklearn.preprocessing import PowerTransformer\n",
    "pt = PowerTransformer(method='yeo-johnson', standardize=True,) \n",
    "#Fit the data to the powertransformer\n",
    "skl_yeojohnson = pt.fit(train_X1)\n",
    "\n",
    "calc_lambdas = skl_yeojohnson.lambdas_\n",
    "\n",
    "#Transform the data \n",
    "skl_yeojohnson = pt.transform(train_X1)\n",
    "\n",
    "#Pass the transformed data into a new dataframe \n",
    "train_X1 = pd.DataFrame(data = skl_yeojohnson, columns = train_X.columns)"
   ]
  },
  {
   "cell_type": "code",
   "execution_count": 43,
   "id": "29e34722",
   "metadata": {},
   "outputs": [
    {
     "name": "stdout",
     "output_type": "stream",
     "text": [
      "                            OLS Regression Results                            \n",
      "==============================================================================\n",
      "Dep. Variable:              SalePrice   R-squared:                       0.959\n",
      "Model:                            OLS   Adj. R-squared:                  0.950\n",
      "Method:                 Least Squares   F-statistic:                     114.2\n",
      "Date:                Fri, 14 May 2021   Prob (F-statistic):               0.00\n",
      "Time:                        03:20:59   Log-Likelihood:                 4922.5\n",
      "No. Observations:                1354   AIC:                            -9387.\n",
      "Df Residuals:                    1125   BIC:                            -8194.\n",
      "Df Model:                         228                                         \n",
      "Covariance Type:            nonrobust                                         \n",
      "=========================================================================================\n",
      "                            coef    std err          t      P>|t|      [0.025      0.975]\n",
      "-----------------------------------------------------------------------------------------\n",
      "const                     2.4854      0.000   1.31e+04      0.000       2.485       2.486\n",
      "MSSubClass               -0.0008      0.001     -1.058      0.290      -0.002       0.001\n",
      "LotFrontage               0.0009      0.000      2.510      0.012       0.000       0.002\n",
      "OverallQual               0.0041      0.000      9.162      0.000       0.003       0.005\n",
      "OverallCond               0.0039      0.000     12.439      0.000       0.003       0.004\n",
      "YearBuilt                 0.0056      0.001      6.424      0.000       0.004       0.007\n",
      "YearRemodAdd              0.0007      0.000      1.891      0.059   -2.71e-05       0.001\n",
      "MasVnrArea                0.0020      0.001      1.430      0.153      -0.001       0.005\n",
      "BsmtFinSF1                0.0009      0.001      0.859      0.391      -0.001       0.003\n",
      "BsmtFinSF2               -0.0049      0.345     -0.014      0.989      -0.681       0.672\n",
      "BsmtUnfSF                -0.0019      0.001     -3.166      0.002      -0.003      -0.001\n",
      "TotalBsmtSF              -0.0023      0.002     -1.214      0.225      -0.006       0.001\n",
      "1stFlrSF              -6669.8718   5342.163     -1.249      0.212   -1.72e+04    3811.852\n",
      "2ndFlrSF                 -0.0008      0.001     -0.705      0.481      -0.003       0.001\n",
      "LowQualFinSF          -8.184e-05      0.000     -0.266      0.790      -0.001       0.001\n",
      "GrLivArea                 0.0027      0.002      1.166      0.244      -0.002       0.007\n",
      "BsmtFullBath              0.0006      0.000      1.794      0.073   -5.38e-05       0.001\n",
      "BsmtHalfBath             -0.0001      0.000     -0.664      0.507      -0.001       0.000\n",
      "FullBath                  0.0009      0.000      2.427      0.015       0.000       0.002\n",
      "HalfBath                  0.0006      0.000      1.687      0.092   -9.64e-05       0.001\n",
      "BedroomAbvGr             -0.0005      0.000     -1.292      0.197      -0.001       0.000\n",
      "KitchenAbvGr           2327.1486   1863.905      1.249      0.212   -1329.972    5984.270\n",
      "TotRmsAbvGrd              0.0002      0.000      0.318      0.751      -0.001       0.001\n",
      "Fireplaces                0.0011      0.001      1.063      0.288      -0.001       0.003\n",
      "GarageYrBlt              -0.0044      0.004     -1.120      0.263      -0.012       0.003\n",
      "GarageCars                0.0010      0.001      1.809      0.071   -8.11e-05       0.002\n",
      "GarageArea                0.0021      0.001      3.594      0.000       0.001       0.003\n",
      "WoodDeckSF                0.0009      0.000      3.842      0.000       0.000       0.001\n",
      "OpenPorchSF               0.0004      0.000      1.396      0.163      -0.000       0.001\n",
      "EnclosedPorch             0.0003      0.000      1.230      0.219      -0.000       0.001\n",
      "3SsnPorch              9.716e-05      0.000      0.452      0.652      -0.000       0.001\n",
      "ScreenPorch               0.0009      0.000      4.154      0.000       0.000       0.001\n",
      "PoolArea               1.685e+04   1.35e+04      1.249      0.212   -9630.290    4.33e+04\n",
      "MiscVal                2.947e+08   2.36e+08      1.249      0.212   -1.68e+08    7.58e+08\n",
      "MoSold                   -0.0002      0.000     -1.051      0.294      -0.001       0.000\n",
      "YrSold                  -1.4e+04   1.12e+04     -1.249      0.212    -3.6e+04    7999.042\n",
      "Totalsf                   0.0135      0.003      4.177      0.000       0.007       0.020\n",
      "MSZoning_FV               0.0074      0.001      7.993      0.000       0.006       0.009\n",
      "MSZoning_RH               0.0034      0.000      7.996      0.000       0.003       0.004\n",
      "MSZoning_RL               0.0149      0.002      9.249      0.000       0.012       0.018\n",
      "MSZoning_RM               0.0119      0.001      8.726      0.000       0.009       0.015\n",
      "Street_Pave            7.623e-06      0.000      0.028      0.977      -0.001       0.001\n",
      "Alley_None               -0.0002      0.000     -0.689      0.491      -0.001       0.000\n",
      "Alley_Pave                0.0002      0.000      0.672      0.502      -0.000       0.001\n",
      "LotShape_IR2              0.0004      0.000      1.600      0.110   -7.95e-05       0.001\n",
      "LotShape_IR3              0.0004      0.000      1.807      0.071   -3.59e-05       0.001\n",
      "LotShape_Reg              0.0002      0.000      0.888      0.375      -0.000       0.001\n",
      "LandContour_HLS       -4.235e-05      0.000     -0.140      0.888      -0.001       0.001\n",
      "LandContour_Low           0.0001      0.000      0.456      0.648      -0.000       0.001\n",
      "LandContour_Lvl           0.0002      0.000      0.445      0.657      -0.001       0.001\n",
      "Utilities_NoSeWa         -0.0005      0.000     -2.046      0.041      -0.001   -1.86e-05\n",
      "LotConfig_CulDSac         0.0005      0.000      1.899      0.058   -1.61e-05       0.001\n",
      "LotConfig_FR2            -0.0005      0.000     -2.064      0.039      -0.001   -2.34e-05\n",
      "LotConfig_FR3          6.701e-05      0.000      0.308      0.758      -0.000       0.000\n",
      "LotConfig_Inside         -0.0004      0.000     -1.491      0.136      -0.001       0.000\n",
      "LandSlope_Mod             0.0002      0.000      0.741      0.459      -0.000       0.001\n",
      "LandSlope_Sev          8.046e-05      0.000      0.293      0.770      -0.000       0.001\n",
      "Neighborhood_Blueste     -0.0002      0.000     -0.793      0.428      -0.001       0.000\n",
      "Neighborhood_BrDale      -0.0006      0.000     -1.411      0.158      -0.001       0.000\n",
      "Neighborhood_BrkSide      0.0002      0.001      0.351      0.726      -0.001       0.001\n",
      "Neighborhood_ClearCr      0.0005      0.000      1.421      0.156      -0.000       0.001\n",
      "Neighborhood_CollgCr     -0.0002      0.001     -0.298      0.765      -0.002       0.001\n",
      "Neighborhood_Crawfor      0.0017      0.000      3.407      0.001       0.001       0.003\n",
      "Neighborhood_Edwards     -0.0015      0.001     -2.325      0.020      -0.003      -0.000\n",
      "Neighborhood_Gilbert   -4.27e-05      0.001     -0.073      0.942      -0.001       0.001\n",
      "Neighborhood_IDOTRR      -0.0002      0.001     -0.349      0.727      -0.001       0.001\n",
      "Neighborhood_MeadowV     -0.0012      0.000     -2.835      0.005      -0.002      -0.000\n",
      "Neighborhood_Mitchel     -0.0006      0.000     -1.307      0.192      -0.002       0.000\n",
      "Neighborhood_NAmes       -0.0011      0.001     -1.212      0.226      -0.003       0.001\n",
      "Neighborhood_NPkVill      0.0001      0.000      0.303      0.762      -0.001       0.001\n",
      "Neighborhood_NWAmes      -0.0005      0.001     -0.813      0.417      -0.002       0.001\n",
      "Neighborhood_NoRidge      0.0010      0.000      2.328      0.020       0.000       0.002\n",
      "Neighborhood_NridgHt      0.0008      0.001      1.438      0.151      -0.000       0.002\n",
      "Neighborhood_OldTown     -0.0012      0.001     -1.413      0.158      -0.003       0.000\n",
      "Neighborhood_SWISU        0.0002      0.000      0.474      0.635      -0.001       0.001\n",
      "Neighborhood_Sawyer      -0.0002      0.001     -0.279      0.780      -0.001       0.001\n",
      "Neighborhood_SawyerW  -3.111e-05      0.001     -0.062      0.951      -0.001       0.001\n",
      "Neighborhood_Somerst      0.0008      0.001      1.177      0.240      -0.001       0.002\n",
      "Neighborhood_StoneBr      0.0011      0.000      3.337      0.001       0.000       0.002\n",
      "Neighborhood_Timber       0.0001      0.000      0.344      0.731      -0.001       0.001\n",
      "Neighborhood_Veenker      0.0002      0.000      0.589      0.556      -0.000       0.001\n",
      "Condition1_Feedr          0.0006      0.000      1.568      0.117      -0.000       0.001\n",
      "Condition1_Norm           0.0024      0.000      5.152      0.000       0.001       0.003\n",
      "Condition1_PosA           0.0004      0.000      1.844      0.066   -2.86e-05       0.001\n",
      "Condition1_PosN           0.0006      0.000      2.581      0.010       0.000       0.001\n",
      "Condition1_RRAe          -0.0002      0.000     -0.959      0.338      -0.001       0.000\n",
      "Condition1_RRAn           0.0008      0.000      2.576      0.010       0.000       0.001\n",
      "Condition1_RRNn           0.0003      0.000      1.180      0.238      -0.000       0.001\n",
      "Condition2_Feedr          0.0003      0.000      0.616      0.538      -0.001       0.001\n",
      "Condition2_Norm           0.0008      0.001      1.397      0.163      -0.000       0.002\n",
      "Condition2_PosA           0.0006      0.000      2.034      0.042    2.26e-05       0.001\n",
      "Condition2_RRAe          -0.0005      0.000     -1.042      0.298      -0.001       0.000\n",
      "Condition2_RRNn           0.0005      0.000      1.414      0.158      -0.000       0.001\n",
      "BldgType_2fmCon        3.054e-05      0.000      0.097      0.922      -0.001       0.001\n",
      "BldgType_Duplex          -0.0012      0.000     -3.192      0.001      -0.002      -0.000\n",
      "BldgType_Twnhs           -0.0009      0.000     -2.266      0.024      -0.002      -0.000\n",
      "BldgType_TwnhsE          -0.0007      0.001     -1.260      0.208      -0.002       0.000\n",
      "HouseStyle_1.5Unf         0.0002      0.000      0.759      0.448      -0.000       0.001\n",
      "HouseStyle_1Story        -0.0011      0.001     -0.936      0.350      -0.003       0.001\n",
      "HouseStyle_2.5Fin         0.0002      0.000      0.613      0.540      -0.000       0.001\n",
      "HouseStyle_2.5Unf      7.821e-05      0.000      0.320      0.749      -0.000       0.001\n",
      "HouseStyle_2Story        -0.0002      0.000     -0.388      0.698      -0.001       0.001\n",
      "HouseStyle_SFoyer      8.649e-05      0.000      0.210      0.834      -0.001       0.001\n",
      "HouseStyle_SLvl           0.0002      0.000      0.428      0.669      -0.001       0.001\n",
      "RoofStyle_Gable       -9434.8119   7556.712     -1.249      0.212   -2.43e+04    5392.023\n",
      "RoofStyle_Gambrel     -1905.6300   1526.294     -1.249      0.212   -4900.333    1089.073\n",
      "RoofStyle_Hip         -9182.8465   7354.903     -1.249      0.212   -2.36e+04    5248.025\n",
      "RoofStyle_Mansard     -1422.4831   1139.323     -1.249      0.212   -3657.920     812.954\n",
      "RoofStyle_Shed         -900.6566    721.372     -1.249      0.212   -2316.042     514.729\n",
      "RoofMatl_CompShg       4891.9677   3918.169      1.249      0.212   -2795.774    1.26e+04\n",
      "RoofMatl_Tar&Grv       1351.5046   1082.473      1.249      0.212    -772.389    3475.398\n",
      "RoofMatl_WdShake       3165.9762   2535.755      1.249      0.212   -1809.365    8141.318\n",
      "RoofMatl_WdShngl       2454.1730   1965.643      1.249      0.212   -1402.566    6310.912\n",
      "Exterior1st_AsphShn    6553.8519   5249.238      1.249      0.212   -3745.546    1.69e+04\n",
      "Exterior1st_BrkFace       0.0002      0.001      0.308      0.758      -0.001       0.002\n",
      "Exterior1st_CBlock     -295.6400    236.790     -1.249      0.212    -760.239     168.959\n",
      "Exterior1st_CemntBd      -0.0013      0.002     -0.748      0.455      -0.005       0.002\n",
      "Exterior1st_HdBoard      -0.0025      0.002     -1.538      0.124      -0.006       0.001\n",
      "Exterior1st_MetalSd      -0.0014      0.002     -0.756      0.450      -0.005       0.002\n",
      "Exterior1st_Plywood      -0.0019      0.001     -1.707      0.088      -0.004       0.000\n",
      "Exterior1st_Stone     -9.984e-05      0.000     -0.324      0.746      -0.001       0.001\n",
      "Exterior1st_Stucco       -0.0004      0.001     -0.681      0.496      -0.002       0.001\n",
      "Exterior1st_VinylSd      -0.0041      0.002     -1.803      0.072      -0.008       0.000\n",
      "Exterior1st_Wd Sdng      -0.0032      0.002     -2.137      0.033      -0.006      -0.000\n",
      "Exterior1st_WdShing      -0.0006      0.001     -1.055      0.292      -0.002       0.001\n",
      "Exterior2nd_AsphShn   -6553.8518   5249.238     -1.249      0.212   -1.69e+04    3745.546\n",
      "Exterior2nd_Brk Cmn       0.0004      0.000      1.044      0.297      -0.000       0.001\n",
      "Exterior2nd_BrkFace       0.0008      0.001      1.461      0.144      -0.000       0.002\n",
      "Exterior2nd_CBlock      295.6397    236.790      1.249      0.212    -168.959     760.239\n",
      "Exterior2nd_CmentBd       0.0017      0.002      1.028      0.304      -0.002       0.005\n",
      "Exterior2nd_HdBoard       0.0028      0.001      1.876      0.061      -0.000       0.006\n",
      "Exterior2nd_ImStucc       0.0006      0.000      1.809      0.071   -5.38e-05       0.001\n",
      "Exterior2nd_MetalSd       0.0025      0.002      1.465      0.143      -0.001       0.006\n",
      "Exterior2nd_Plywood       0.0023      0.001      1.908      0.057   -6.35e-05       0.005\n",
      "Exterior2nd_Stone         0.0001      0.000      0.378      0.706      -0.000       0.001\n",
      "Exterior2nd_Stucco        0.0009      0.001      1.425      0.154      -0.000       0.002\n",
      "Exterior2nd_VinylSd       0.0052      0.002      2.453      0.014       0.001       0.009\n",
      "Exterior2nd_Wd Sdng       0.0040      0.001      2.788      0.005       0.001       0.007\n",
      "Exterior2nd_Wd Shng       0.0010      0.001      1.494      0.136      -0.000       0.002\n",
      "MasVnrType_BrkFace        0.0005      0.001      0.509      0.611      -0.002       0.003\n",
      "MasVnrType_None           0.0022      0.002      1.238      0.216      -0.001       0.006\n",
      "MasVnrType_Stone          0.0007      0.001      1.100      0.271      -0.001       0.002\n",
      "ExterQual_Fa              0.0005      0.000      1.328      0.184      -0.000       0.001\n",
      "ExterQual_Gd          -2.469e-05      0.001     -0.032      0.974      -0.002       0.001\n",
      "ExterQual_TA              0.0004      0.001      0.483      0.629      -0.001       0.002\n",
      "ExterCond_Fa             -0.0014      0.001     -1.910      0.056      -0.003    3.84e-05\n",
      "ExterCond_Gd             -0.0034      0.002     -2.098      0.036      -0.007      -0.000\n",
      "ExterCond_TA             -0.0034      0.002     -1.952      0.051      -0.007    1.74e-05\n",
      "Foundation_CBlock         0.0008      0.001      1.631      0.103      -0.000       0.002\n",
      "Foundation_PConc          0.0012      0.001      2.155      0.031       0.000       0.002\n",
      "Foundation_Slab          -0.0003      0.000     -0.716      0.474      -0.001       0.001\n",
      "Foundation_Stone          0.0007      0.000      2.981      0.003       0.000       0.001\n",
      "Foundation_Wood          -0.0003      0.000     -1.346      0.179      -0.001       0.000\n",
      "BsmtQual_Fa              -0.0003      0.000     -0.904      0.366      -0.001       0.000\n",
      "BsmtQual_Gd              -0.0016      0.001     -2.877      0.004      -0.003      -0.000\n",
      "BsmtQual_None          -793.5679    635.609     -1.249      0.212   -2040.680     453.545\n",
      "BsmtQual_TA              -0.0015      0.001     -2.216      0.027      -0.003      -0.000\n",
      "BsmtCond_Gd               0.0007      0.000      1.914      0.056   -1.72e-05       0.001\n",
      "BsmtCond_None         -2.249e+04    1.8e+04     -1.249      0.212   -5.78e+04    1.29e+04\n",
      "BsmtCond_Po               0.0005      0.000      1.376      0.169      -0.000       0.001\n",
      "BsmtCond_TA               0.0011      0.000      2.663      0.008       0.000       0.002\n",
      "BsmtExposure_Gd           0.0010      0.000      3.989      0.000       0.001       0.002\n",
      "BsmtExposure_Mn           0.0001      0.000      0.425      0.671      -0.000       0.001\n",
      "BsmtExposure_No       -1.285e-05      0.000     -0.038      0.969      -0.001       0.001\n",
      "BsmtExposure_None      3104.9870   2486.897      1.249      0.212   -1774.491    7984.465\n",
      "BsmtFinType1_BLQ         -0.0002      0.000     -0.794      0.427      -0.001       0.000\n",
      "BsmtFinType1_GLQ      -3.903e-06      0.000     -0.011      0.991      -0.001       0.001\n",
      "BsmtFinType1_LwQ         -0.0007      0.000     -2.756      0.006      -0.001      -0.000\n",
      "BsmtFinType1_None      2.017e+04   1.62e+04      1.249      0.212   -1.15e+04    5.19e+04\n",
      "BsmtFinType1_Rec         -0.0004      0.000     -1.332      0.183      -0.001       0.000\n",
      "BsmtFinType1_Unf         -0.0006      0.001     -0.722      0.470      -0.002       0.001\n",
      "BsmtFinType2_BLQ         -0.0009      0.000     -2.396      0.017      -0.002      -0.000\n",
      "BsmtFinType2_GLQ      -5.352e-05      0.000     -0.180      0.857      -0.001       0.001\n",
      "BsmtFinType2_LwQ         -0.0008      0.000     -1.862      0.063      -0.002    4.21e-05\n",
      "BsmtFinType2_None        -0.0011      0.001     -0.926      0.354      -0.004       0.001\n",
      "BsmtFinType2_Rec         -0.0007      0.000     -1.653      0.099      -0.002       0.000\n",
      "BsmtFinType2_Unf         -0.0064      0.375     -0.017      0.986      -0.743       0.730\n",
      "Heating_GasA          -1.207e+04   9665.556     -1.249      0.212    -3.1e+04    6896.770\n",
      "Heating_GasW          -8574.8695   6867.951     -1.249      0.212   -2.21e+04    4900.565\n",
      "Heating_Grav          -6306.2965   5050.960     -1.249      0.212   -1.62e+04    3604.066\n",
      "Heating_OthW          -3377.1070   2704.858     -1.249      0.212   -8684.241    1930.027\n",
      "Heating_Wall          -4772.4164   3822.416     -1.249      0.212   -1.23e+04    2727.451\n",
      "HeatingQC_Fa          -9.498e-05      0.000     -0.353      0.724      -0.001       0.000\n",
      "HeatingQC_Gd             -0.0004      0.000     -1.708      0.088      -0.001    6.29e-05\n",
      "HeatingQC_Po             -0.0002      0.000     -0.766      0.444      -0.001       0.000\n",
      "HeatingQC_TA             -0.0009      0.000     -2.963      0.003      -0.002      -0.000\n",
      "CentralAir_Y              0.0012      0.000      3.973      0.000       0.001       0.002\n",
      "Electrical_FuseF         -0.0002      0.000     -0.775      0.439      -0.001       0.000\n",
      "Electrical_FuseP         -0.0007      0.000     -2.584      0.010      -0.001      -0.000\n",
      "Electrical_Mix           -0.0003      0.000     -0.696      0.486      -0.001       0.000\n",
      "Electrical_SBrkr         -0.0004      0.000     -1.558      0.120      -0.001       0.000\n",
      "KitchenQual_Fa           -0.0012      0.000     -3.871      0.000      -0.002      -0.001\n",
      "KitchenQual_Gd           -0.0034      0.001     -6.021      0.000      -0.005      -0.002\n",
      "KitchenQual_TA           -0.0033      0.001     -5.120      0.000      -0.005      -0.002\n",
      "Functional_Maj2          -0.0007      0.000     -2.526      0.012      -0.001      -0.000\n",
      "Functional_Min1           0.0007      0.000      1.735      0.083   -9.69e-05       0.002\n",
      "Functional_Min2           0.0007      0.000      1.485      0.138      -0.000       0.002\n",
      "Functional_Mod         9.585e-05      0.000      0.304      0.761      -0.001       0.001\n",
      "Functional_Typ            0.0022      0.001      3.318      0.001       0.001       0.003\n",
      "FireplaceQu_Fa           -0.0002      0.000     -0.583      0.560      -0.001       0.000\n",
      "FireplaceQu_Gd         6.669e-05      0.001      0.085      0.932      -0.001       0.002\n",
      "FireplaceQu_None       6.091e-05      0.001      0.044      0.965      -0.003       0.003\n",
      "FireplaceQu_Po            0.0007      0.000      2.370      0.018       0.000       0.001\n",
      "FireplaceQu_TA           -0.0002      0.001     -0.208      0.836      -0.002       0.001\n",
      "GarageType_Attchd         0.0039      0.002      1.601      0.110      -0.001       0.009\n",
      "GarageType_Basment        0.0010      0.001      1.668      0.096      -0.000       0.002\n",
      "GarageType_BuiltIn        0.0020      0.001      1.633      0.103      -0.000       0.004\n",
      "GarageType_CarPort        0.0006      0.000      1.327      0.185      -0.000       0.001\n",
      "GarageType_Detchd         0.0038      0.002      1.693      0.091      -0.001       0.008\n",
      "GarageType_None        5497.2610   4402.973      1.249      0.212   -3141.703    1.41e+04\n",
      "GarageFinish_None       100.5831     80.562      1.249      0.212     -57.485     258.651\n",
      "GarageFinish_RFn          0.0002      0.000      0.810      0.418      -0.000       0.001\n",
      "GarageFinish_Unf         -0.0002      0.000     -0.534      0.594      -0.001       0.001\n",
      "GarageQual_Fa            -0.0041      0.002     -2.181      0.029      -0.008      -0.000\n",
      "GarageQual_Gd            -0.0016      0.001     -1.739      0.082      -0.003       0.000\n",
      "GarageQual_None        3658.7965   2930.475      1.249      0.212   -2091.015    9408.608\n",
      "GarageQual_Po            -0.0014      0.001     -2.348      0.019      -0.003      -0.000\n",
      "GarageQual_TA            -0.0057      0.003     -1.859      0.063      -0.012       0.000\n",
      "GarageCond_Fa             0.0020      0.002      1.167      0.243      -0.001       0.005\n",
      "GarageCond_Gd             0.0008      0.001      0.959      0.338      -0.001       0.002\n",
      "GarageCond_None       -9256.6447   7414.010     -1.249      0.212   -2.38e+04    5290.199\n",
      "GarageCond_Po             0.0019      0.001      2.316      0.021       0.000       0.004\n",
      "GarageCond_TA             0.0042      0.003      1.299      0.194      -0.002       0.011\n",
      "PavedDrive_P             -0.0004      0.000     -1.416      0.157      -0.001       0.000\n",
      "PavedDrive_Y             -0.0002      0.000     -0.575      0.566      -0.001       0.000\n",
      "PoolQC_Gd             -8415.7446   6740.500     -1.249      0.212   -2.16e+04    4809.621\n",
      "PoolQC_None            7017.1018   5620.272      1.249      0.212   -4010.293     1.8e+04\n",
      "Fence_GdWo            -9.595e-05      0.000     -0.325      0.745      -0.001       0.000\n",
      "Fence_MnPrv               0.0003      0.000      0.679      0.497      -0.001       0.001\n",
      "Fence_MnWw               -0.0003      0.000     -1.145      0.252      -0.001       0.000\n",
      "Fence_None                0.0005      0.000      1.142      0.254      -0.000       0.001\n",
      "MiscFeature_None       2.947e+08   2.36e+08      1.249      0.212   -1.68e+08    7.58e+08\n",
      "MiscFeature_Shed         -0.0005      0.001     -0.348      0.728      -0.003       0.002\n",
      "SaleType_CWD              0.0003      0.000      1.576      0.115   -7.78e-05       0.001\n",
      "SaleType_ConLD         8.315e-05      0.000      0.325      0.746      -0.000       0.001\n",
      "SaleType_ConLI           -0.0002      0.000     -0.743      0.458      -0.001       0.000\n",
      "SaleType_ConLw            0.0001      0.000      0.568      0.570      -0.000       0.001\n",
      "SaleType_New             -0.0003      0.002     -0.122      0.903      -0.005       0.004\n",
      "SaleType_Oth              0.0006      0.000      3.033      0.002       0.000       0.001\n",
      "SaleType_WD              -0.0006      0.000     -1.385      0.166      -0.001       0.000\n",
      "SaleCondition_AdjLand     0.0008      0.000      3.301      0.001       0.000       0.001\n",
      "SaleCondition_Alloca      0.0009      0.000      3.447      0.001       0.000       0.001\n",
      "SaleCondition_Family      0.0009      0.000      3.805      0.000       0.000       0.001\n",
      "SaleCondition_Normal      0.0029      0.000      8.456      0.000       0.002       0.004\n",
      "SaleCondition_Partial     0.0028      0.002      1.298      0.195      -0.001       0.007\n",
      "==============================================================================\n",
      "Omnibus:                      188.043   Durbin-Watson:                   1.933\n",
      "Prob(Omnibus):                  0.000   Jarque-Bera (JB):              674.841\n",
      "Skew:                          -0.649   Prob(JB):                    2.88e-147\n",
      "Kurtosis:                       6.205   Cond. No.                     3.85e+16\n",
      "==============================================================================\n",
      "\n",
      "Notes:\n",
      "[1] Standard Errors assume that the covariance matrix of the errors is correctly specified.\n",
      "[2] The smallest eigenvalue is 1.6e-29. This might indicate that there are\n",
      "strong multicollinearity problems or that the design matrix is singular.\n"
     ]
    }
   ],
   "source": [
    "# Model Performace - statsmodel\n",
    "X_add_const = sms.add_constant(train_X1)\n",
    "OLS = sms.OLS(train_y, X_add_const)\n",
    "ans2 = OLS.fit()\n",
    "print(ans2.summary())"
   ]
  },
  {
   "cell_type": "code",
   "execution_count": 44,
   "id": "9c111825",
   "metadata": {},
   "outputs": [
    {
     "name": "stdout",
     "output_type": "stream",
     "text": [
      "0.006379969745168835 0.958600412513471\n"
     ]
    }
   ],
   "source": [
    "from sklearn.metrics import mean_squared_error\n",
    "ols = LinearRegression()\n",
    "ols.fit(train_X1, train_y)\n",
    "y_true = train_y\n",
    "y_pred = ols.predict(train_X1)\n",
    "RMSE = mean_squared_error(y_true, y_pred, squared = False)\n",
    "R2 = ols.score(train_X1, train_y)\n",
    "print(RMSE, R2)"
   ]
  },
  {
   "cell_type": "markdown",
   "id": "a9c50eee",
   "metadata": {},
   "source": [
    "## Penalization regression - Lasso, Ridge, ElasticNet"
   ]
  },
  {
   "cell_type": "code",
   "execution_count": 45,
   "id": "4d62faaf",
   "metadata": {},
   "outputs": [],
   "source": [
    "# for penalization models\n",
    "trainX, trainy = train_X.copy(), np.log(train_y).copy()"
   ]
  },
  {
   "cell_type": "code",
   "execution_count": 46,
   "id": "b632e118",
   "metadata": {},
   "outputs": [],
   "source": [
    "from sklearn.pipeline import Pipeline\n",
    "from sklearn.model_selection import GridSearchCV, KFold, cross_val_score\n",
    "from sklearn.linear_model import Ridge, Lasso, ElasticNet, RidgeCV, LassoCV, ElasticNetCV\n",
    "from sklearn.ensemble import GradientBoostingRegressor, RandomForestRegressor"
   ]
  },
  {
   "cell_type": "code",
   "execution_count": 48,
   "id": "53a273d2",
   "metadata": {},
   "outputs": [],
   "source": [
    "rkfolds = KFold(n_splits = 10 , shuffle = True, random_state = 42)\n",
    "ridgecv = RidgeCV(cv = rkfolds, \n",
    "                  normalize = True,\n",
    "                  scoring = \"neg_mean_squared_error\",).fit(trainX, trainy)"
   ]
  },
  {
   "cell_type": "code",
   "execution_count": 49,
   "id": "57118b76",
   "metadata": {},
   "outputs": [
    {
     "name": "stdout",
     "output_type": "stream",
     "text": [
      "0.1\n",
      "0.9476319871712082\n"
     ]
    }
   ],
   "source": [
    "alphar = ridgecv.alpha_\n",
    "alphas = ridgecv.best_score_\n",
    "print(alphar)\n",
    "print(ridgecv.score(trainX, trainy))"
   ]
  },
  {
   "cell_type": "code",
   "execution_count": 50,
   "id": "917d1894",
   "metadata": {},
   "outputs": [
    {
     "data": {
      "text/plain": [
       "0.002889913368795028"
      ]
     },
     "execution_count": 50,
     "metadata": {},
     "output_type": "execute_result"
    }
   ],
   "source": [
    "y_true = trainy\n",
    "y_pred = ridgecv.predict(trainX)\n",
    "RMSE = mean_squared_error(y_true, y_pred, squared=False)\n",
    "RMSE"
   ]
  },
  {
   "cell_type": "code",
   "execution_count": 52,
   "id": "45d8aeb4",
   "metadata": {},
   "outputs": [],
   "source": [
    "lkfolds = KFold(n_splits = 10, shuffle = True, random_state = 42)"
   ]
  },
  {
   "cell_type": "code",
   "execution_count": 53,
   "id": "98da5f4a",
   "metadata": {},
   "outputs": [
    {
     "data": {
      "text/plain": [
       "2.1097647714268986e-06"
      ]
     },
     "execution_count": 53,
     "metadata": {},
     "output_type": "execute_result"
    }
   ],
   "source": [
    "lassocv = LassoCV(cv = lkfolds, n_jobs = -1, normalize = True,).fit(trainX, trainy)\n",
    "best_lasso = lassocv.alpha_\n",
    "best_lasso"
   ]
  },
  {
   "cell_type": "code",
   "execution_count": 54,
   "id": "7ba134cb",
   "metadata": {},
   "outputs": [
    {
     "name": "stdout",
     "output_type": "stream",
     "text": [
      "0.0030190154430795257 0.9428485681717628\n"
     ]
    }
   ],
   "source": [
    "y_true = trainy\n",
    "y_pred = lassocv.predict(trainX)\n",
    "RMSE = mean_squared_error(y_true, y_pred, squared=False)\n",
    "score = lassocv.score(trainX, trainy)\n",
    "print(RMSE, score)"
   ]
  },
  {
   "cell_type": "code",
   "execution_count": 55,
   "id": "fe5202ae",
   "metadata": {},
   "outputs": [
    {
     "data": {
      "text/plain": [
       "PoolQC_Gd                0.040544\n",
       "Functional_Maj2          0.007026\n",
       "RoofMatl_WdShngl         0.006477\n",
       "Heating_Grav             0.005666\n",
       "SaleType_Oth             0.003810\n",
       "Neighborhood_Crawfor     0.003567\n",
       "Neighborhood_MeadowV     0.003424\n",
       "SaleType_CWD             0.003143\n",
       "SaleCondition_Partial    0.002641\n",
       "Exterior1st_BrkFace      0.002500\n",
       "GarageCond_Po            0.002478\n",
       "Condition2_PosA          0.002383\n",
       "CentralAir_Y             0.002319\n",
       "Heating_GasW             0.002293\n",
       "SaleCondition_Normal     0.002241\n",
       "dtype: float64"
      ]
     },
     "execution_count": 55,
     "metadata": {},
     "output_type": "execute_result"
    }
   ],
   "source": [
    "lassoCoef = pd.Series(lassocv.coef_, index = trainX.columns)\n",
    "sortedCoefs = np.abs(lassoCoef).sort_values(ascending=False)\n",
    "lasso_feature = sortedCoefs[sortedCoefs == 0].index\n",
    "sortedCoefs[sortedCoefs != 0].head(15)"
   ]
  },
  {
   "cell_type": "code",
   "execution_count": 56,
   "id": "bf81b1f6",
   "metadata": {},
   "outputs": [
    {
     "name": "stdout",
     "output_type": "stream",
     "text": [
      "1.5081544070354431e-05 0.15\n",
      "0.0030454486394420875 0.9418434003974658\n"
     ]
    }
   ],
   "source": [
    "nkfolds = KFold(n_splits = 10, shuffle = True, random_state = 23)\n",
    "netcv = ElasticNetCV(normalize = True, cv = nkfolds, n_jobs = -1, l1_ratio = [.15,.25, .4, .5, .7, .9, .95, .99, 1]).fit(trainX, trainy)\n",
    "print(netcv.alpha_, netcv.l1_ratio_)\n",
    "y_true = trainy\n",
    "y_pred = netcv.predict(trainX)\n",
    "RMSE = mean_squared_error(y_true, y_pred, squared=False)\n",
    "score = netcv.score(trainX, trainy)\n",
    "print(RMSE, score)"
   ]
  },
  {
   "cell_type": "code",
   "execution_count": 57,
   "id": "77ab28ff",
   "metadata": {},
   "outputs": [],
   "source": [
    "netCoef = pd.Series(netcv.coef_, index = trainX.columns)\n",
    "sortedCoefs = np.abs(netCoef).sort_values(ascending=False)\n",
    "net_feature = sortedCoefs[sortedCoefs == 0].index"
   ]
  },
  {
   "cell_type": "code",
   "execution_count": 58,
   "id": "216d6176",
   "metadata": {},
   "outputs": [
    {
     "name": "stdout",
     "output_type": "stream",
     "text": [
      "0.9475540399940312 0.0028920633150814603\n",
      "0.9488937598576112 0.002854885813780558\n"
     ]
    }
   ],
   "source": [
    "# rerun linear regression\n",
    "from sklearn.metrics import mean_squared_error\n",
    "li = [lasso_feature, net_feature]\n",
    "for i in range(len(li)):\n",
    "    y = np.log(train_y.copy())\n",
    "    x = train_X1.copy()\n",
    "    x = x.drop(li[i], axis = 1)\n",
    "    ols= LinearRegression()\n",
    "    ols.fit(x, y)\n",
    "    r2 = ols.score(x, y)\n",
    "    y_true = y\n",
    "    y_pred = ols.predict(x)\n",
    "    RMSE = mean_squared_error(y_true, y_pred, squared=False)\n",
    "#     linear_regression_assumptions(x, y, feature_names=x.columns)\n",
    "    print(r2, RMSE)"
   ]
  },
  {
   "cell_type": "code",
   "execution_count": 62,
   "id": "737f1732",
   "metadata": {},
   "outputs": [
    {
     "name": "stdout",
     "output_type": "stream",
     "text": [
      "Fitting 5 folds for each of 2500 candidates, totalling 12500 fits\n",
      "{'model__C': 0.09448979591836734, 'model__epsilon': 4.857142857142857e-06, 'model__gamma': 'auto'} -0.00017858945102885003\n"
     ]
    }
   ],
   "source": [
    "# Support Vector Regression\n",
    "from sklearn.svm import SVR\n",
    "from sklearn.metrics import mean_squared_error\n",
    "from sklearn.preprocessing import PowerTransformer\n",
    "kfolds = KFold(n_splits = 5 , shuffle = True, random_state = 42)\n",
    "\n",
    "pipeline = Pipeline([('model', SVR())])\n",
    "pipeline.get_params().keys()\n",
    "search = GridSearchCV(\n",
    "    estimator = pipeline,\n",
    "    param_grid = {'model__C': np.linspace(1e-2,1e-1, 50),\n",
    "                  'model__epsilon' : np.linspace(1e-6 ,1e-5, 50),\n",
    "                  'model__gamma': [\"auto\"]\n",
    "                  },\n",
    "    n_jobs=-1,\n",
    "    scoring=\"neg_mean_squared_error\",\n",
    "    cv = kfolds,\n",
    "    verbose= 3)\n",
    "search = search.fit(train_X1, train_y)\n",
    "print(search.best_params_, search.best_score_)"
   ]
  },
  {
   "cell_type": "code",
   "execution_count": 63,
   "id": "6d72883c",
   "metadata": {},
   "outputs": [
    {
     "name": "stdout",
     "output_type": "stream",
     "text": [
      "0.9969015578932652 0.0017453892843183891\n"
     ]
    }
   ],
   "source": [
    "best_parms = search.best_params_\n",
    "svr = SVR(C = 0.1, epsilon = 3.7551020408163268e-06,gamma = \"auto\").fit(train_X1,train_y)\n",
    "score = svr.score(train_X1, train_y)\n",
    "y_true = train_y\n",
    "y_pred = svr.predict(train_X1)\n",
    "RMSE = mean_squared_error(y_true, y_pred, squared=False)\n",
    "print(score, RMSE)"
   ]
  },
  {
   "cell_type": "code",
   "execution_count": null,
   "id": "3e903b28",
   "metadata": {},
   "outputs": [],
   "source": [
    "# Ramdon Forest\n",
    "from sklearn.ensemble import RandomForestRegressor\n",
    "pipeline = Pipeline([(\"RF\", RandomForestRegressor(bootstrap = True))])\n",
    "# pipeline.get_params().keys()\n",
    "search = GridSearchCV(\n",
    "    estimator = pipeline,\n",
    "    param_grid = {'RF__n_estimators': range(1, 101, 10 ), # number of tress\n",
    "                  'RF__max_features': range(10, 50, 10), # number of features to resample\n",
    "                  'RF__max_depth': range(10, 50, 10), # depth of the tree\n",
    "                  'RF__min_samples_leaf': range(10, 50, 10),\n",
    "                  'RF__min_samples_split': range(10, 50, 10),\n",
    "                  'RF__oob_score': [True]},\n",
    "    n_jobs=-1,\n",
    "    scoring = \"neg_mean_squared_error\",\n",
    "    cv = tfolds,\n",
    "    verbose=3)\n",
    "search = search.fit(train_X, train_y)\n",
    "print(search.best_params_, search.best_score_)"
   ]
  },
  {
   "cell_type": "code",
   "execution_count": 64,
   "id": "f51ce48d",
   "metadata": {},
   "outputs": [
    {
     "name": "stdout",
     "output_type": "stream",
     "text": [
      "0.9071001578241816 0.009557143356643882\n"
     ]
    }
   ],
   "source": [
    "rf = RandomForestRegressor(bootstrap = True, \n",
    "                           n_estimators = 81,\n",
    "                           max_features = 40,\n",
    "                           max_depth = 30,\n",
    "                           min_samples_leaf = 10, \n",
    "                           min_samples_split = 10,\n",
    "                           oob_score = True,\n",
    "                          )\n",
    "rf.fit(train_X, train_y)\n",
    "score = rf.score(train_X, train_y)\n",
    "y_pred = rf.predict(train_X)\n",
    "y_true = train_y\n",
    "RMSE = mean_squared_error(y_true, y_pred, squared=False)\n",
    "print(score, RMSE)"
   ]
  },
  {
   "cell_type": "code",
   "execution_count": 68,
   "id": "250db09b",
   "metadata": {},
   "outputs": [
    {
     "data": {
      "text/html": [
       "<div>\n",
       "<style scoped>\n",
       "    .dataframe tbody tr th:only-of-type {\n",
       "        vertical-align: middle;\n",
       "    }\n",
       "\n",
       "    .dataframe tbody tr th {\n",
       "        vertical-align: top;\n",
       "    }\n",
       "\n",
       "    .dataframe thead th {\n",
       "        text-align: right;\n",
       "    }\n",
       "</style>\n",
       "<table border=\"1\" class=\"dataframe\">\n",
       "  <thead>\n",
       "    <tr style=\"text-align: right;\">\n",
       "      <th></th>\n",
       "      <th>Features</th>\n",
       "    </tr>\n",
       "  </thead>\n",
       "  <tbody>\n",
       "    <tr>\n",
       "      <th>Totalsf</th>\n",
       "      <td>0.158342</td>\n",
       "    </tr>\n",
       "    <tr>\n",
       "      <th>OverallQual</th>\n",
       "      <td>0.144135</td>\n",
       "    </tr>\n",
       "    <tr>\n",
       "      <th>GrLivArea</th>\n",
       "      <td>0.120992</td>\n",
       "    </tr>\n",
       "    <tr>\n",
       "      <th>YearBuilt</th>\n",
       "      <td>0.078984</td>\n",
       "    </tr>\n",
       "    <tr>\n",
       "      <th>GarageCars</th>\n",
       "      <td>0.054992</td>\n",
       "    </tr>\n",
       "    <tr>\n",
       "      <th>...</th>\n",
       "      <td>...</td>\n",
       "    </tr>\n",
       "    <tr>\n",
       "      <th>Condition1_RRAe</th>\n",
       "      <td>0.000000</td>\n",
       "    </tr>\n",
       "    <tr>\n",
       "      <th>Condition1_RRAn</th>\n",
       "      <td>0.000000</td>\n",
       "    </tr>\n",
       "    <tr>\n",
       "      <th>Exterior2nd_Wd Shng</th>\n",
       "      <td>0.000000</td>\n",
       "    </tr>\n",
       "    <tr>\n",
       "      <th>Condition1_RRNn</th>\n",
       "      <td>0.000000</td>\n",
       "    </tr>\n",
       "    <tr>\n",
       "      <th>Neighborhood_Mitchel</th>\n",
       "      <td>0.000000</td>\n",
       "    </tr>\n",
       "  </tbody>\n",
       "</table>\n",
       "<p>244 rows × 1 columns</p>\n",
       "</div>"
      ],
      "text/plain": [
       "                      Features\n",
       "Totalsf               0.158342\n",
       "OverallQual           0.144135\n",
       "GrLivArea             0.120992\n",
       "YearBuilt             0.078984\n",
       "GarageCars            0.054992\n",
       "...                        ...\n",
       "Condition1_RRAe       0.000000\n",
       "Condition1_RRAn       0.000000\n",
       "Exterior2nd_Wd Shng   0.000000\n",
       "Condition1_RRNn       0.000000\n",
       "Neighborhood_Mitchel  0.000000\n",
       "\n",
       "[244 rows x 1 columns]"
      ]
     },
     "execution_count": 68,
     "metadata": {},
     "output_type": "execute_result"
    }
   ],
   "source": [
    "rf_features = pd.DataFrame(rf.feature_importances_,\n",
    "                           index = train_X.columns).rename(columns = {0: \"Features\"})\n",
    "re_features_index = rf_features[rf_features.Features > 0].index\n",
    "train_X_rf = train_X[re_features_index]\n",
    "rf_features.sort_values(by = \"Features\", ascending = False)"
   ]
  },
  {
   "cell_type": "code",
   "execution_count": 69,
   "id": "ceb0b03d",
   "metadata": {},
   "outputs": [
    {
     "data": {
      "image/png": "[encoded data removed]",
      "text/plain": [
       "<Figure size 576x396 with 1 Axes>"
      ]
     },
     "metadata": {},
     "output_type": "display_data"
    }
   ],
   "source": [
    "plt.plot(rf_features[rf_features.Features > 0].sort_values(by = \"Features\", ascending = False).head(10))\n",
    "plt.title(\"Feature Importance (Top 10)\")\n",
    "plt.savefig(\"fI.png\")\n",
    "plt.show()"
   ]
  },
  {
   "cell_type": "code",
   "execution_count": 71,
   "id": "9abca6a4",
   "metadata": {},
   "outputs": [],
   "source": [
    "# Drop features\n",
    "pipeline = Pipeline([(\"RF\", RandomForestRegressor(bootstrap = True))])\n",
    "# pipeline.get_params().keys()\n",
    "search = GridSearchCV(\n",
    "    estimator = pipeline,\n",
    "    param_grid = {'RF__n_estimators': range(1, 101, 10 ), # number of tress\n",
    "                  'RF__max_features': range(10, 50, 10), # number of features to resample\n",
    "                  'RF__max_depth': range(10, 50, 10), # depth of the tree\n",
    "                  'RF__min_samples_leaf': range(10, 50, 10),\n",
    "                  'RF__min_samples_split': range(10, 50, 10),\n",
    "                  'RF__oob_score': [True]},\n",
    "    n_jobs=-1,\n",
    "    scoring = \"neg_mean_squared_error\",\n",
    "    cv = tfolds,\n",
    "    verbose=3)\n",
    "search = search.fit(train_X_rf, train_y)\n",
    "print(search.best_params_, search.best_score_)"
   ]
  },
  {
   "cell_type": "code",
   "execution_count": 72,
   "id": "6fbb49e5",
   "metadata": {},
   "outputs": [
    {
     "name": "stdout",
     "output_type": "stream",
     "text": [
      "0.9191437940630824 0.008916148472298525\n"
     ]
    }
   ],
   "source": [
    "rf = RandomForestRegressor(bootstrap = True, \n",
    "                           n_estimators = 81,\n",
    "                           max_features = 40,\n",
    "                           max_depth = 30,\n",
    "                           min_samples_leaf = 10, \n",
    "                           min_samples_split = 20,\n",
    "                           oob_score = True,\n",
    "                          )\n",
    "rf.fit(train_X_rf, train_y)\n",
    "score = rf.score(train_X_rf, train_y)\n",
    "y_pred = rf.predict(train_X_rf)\n",
    "y_true = train_y\n",
    "RMSE = mean_squared_error(y_true, y_pred, squared=False)\n",
    "print(score, RMSE)"
   ]
  },
  {
   "cell_type": "code",
   "execution_count": null,
   "id": "9d6c13b5",
   "metadata": {},
   "outputs": [],
   "source": [
    "# Gradient Boosting \n",
    "from sklearn.ensemble import GradientBoostingRegressor\n",
    "gfolds = KFold(n_splits=5, shuffle = True, random_state= 42)\n",
    "pipeline = Pipeline([(\"GBR\", GradientBoostingRegressor())])\n",
    "pipeline.get_params().keys()\n",
    "search = GridSearchCV(\n",
    "    estimator = pipeline,\n",
    "    param_grid = {'GBR__learning_rate': np.linspace(1e-1,1, 20), \n",
    "                  'GBR__max_depth': range(10, 50, 10), \n",
    "                  'GBR__max_features': ['auto', 'sqrt', 'log2'], \n",
    "                  'GBR__min_samples_split': range(10, 60, 10),\n",
    "                  'GBR__n_estimators': range(10, 60, 10),\n",
    "                  'GBR__subsample': np.linspace(1e-1,1,5)},\n",
    "    n_jobs = -1,\n",
    "    scoring = \"neg_mean_squared_error\",\n",
    "    cv = gfolds,\n",
    "    verbose=3)\n",
    "search = search.fit(train_X, train_y)\n",
    "print(search.best_params_, search.best_score_)"
   ]
  },
  {
   "cell_type": "code",
   "execution_count": null,
   "id": "94948c32",
   "metadata": {},
   "outputs": [],
   "source": [
    "gbr = GradientBoostingRegressor(learning_rate = 0.1, \n",
    "                                max_depth=20, \n",
    "                                max_features= \"auto\", \n",
    "                                min_samples_split=50, \n",
    "                                n_estimators= 50, \n",
    "                                subsample=0.325)\n",
    "gbr.fit(train_X, train_y)\n",
    "score = gbr.score(train_X, train_y)\n",
    "y_pred = gbr.predict(train_X)\n",
    "y_true = train_y\n",
    "RMSE = mean_squared_error(y_true, y_pred, squared=False)\n",
    "print(score, RMSE)"
   ]
  },
  {
   "cell_type": "code",
   "execution_count": null,
   "id": "362975ed",
   "metadata": {},
   "outputs": [],
   "source": [
    "gbr_features = pd.DataFrame(gbr.feature_importances_,\n",
    "                           index = train_X.columns).rename(columns = {0: \"Features\"})\n",
    "gbr_features_index = gbr_features[rf_features.Features > 0].index\n",
    "train_X_gbr = train_X[re_features_index]"
   ]
  },
  {
   "cell_type": "code",
   "execution_count": null,
   "id": "b9e61f33",
   "metadata": {},
   "outputs": [],
   "source": [
    "gbr = GradientBoostingRegressor(learning_rate = 0.1, \n",
    "                                max_depth=20, \n",
    "                                max_features= \"auto\", \n",
    "                                min_samples_split=40, \n",
    "                                n_estimators= 40, \n",
    "                                subsample=0.325)\n",
    "gbr.fit(train_X_gbr, train_y)\n",
    "score = gbr.score(train_X_gbr, train_y)\n",
    "y_pred = gbr.predict(train_X_gbr)\n",
    "y_true = train_y\n",
    "RMSE = mean_squared_error(y_true, y_pred, squared=False)\n",
    "print(score, RMSE)"
   ]
  },
  {
   "cell_type": "code",
   "execution_count": null,
   "id": "a40ae993",
   "metadata": {},
   "outputs": [],
   "source": [
    "# Xgboost\n",
    "xfolds = KFold(n_splits= 3, shuffle = True, random_state= 42)\n",
    "pipeline = Pipeline([(\"xgb\", XGBRegressor(n_jobs = -1, objective='reg:squarederror'))])\n",
    "pipeline.get_params().keys()\n",
    "search = GridSearchCV(\n",
    "    estimator = pipeline,\n",
    "    param_grid = {'xgb__gamma': np.linspace(1e-5,1, 5), \n",
    "                  'xgb__learning_rate': np.linspace(1e-1, 1, 5), \n",
    "                  'xgb__max_depth': range(5, 25, 5), \n",
    "                  'xgb__min_child_weight': range(1, 20, 10),\n",
    "                  'xgb__n_estimators': [50, 100, 150, 200],\n",
    "                  'xgb__subsample': np.linspace(1e-5,1, 5),\n",
    "                  'xgb__reg_alpha': np.linspace(1e-1,1, 5),\n",
    "                  'xgb__colsample_bytree':np.linspace(1e-5,1, 5),\n",
    "                 },\n",
    "    n_jobs = -1,\n",
    "    scoring = \"neg_mean_squared_error\",\n",
    "    cv = xfolds,\n",
    "    verbose=3)\n",
    "search = search.fit(train_X, train_y)\n",
    "print(search.best_params_, search.best_score_)"
   ]
  },
  {
   "cell_type": "code",
   "execution_count": null,
   "id": "32cb81c3",
   "metadata": {},
   "outputs": [],
   "source": [
    "xgb = XGBRegressor(n_jobs = -1, \n",
    "                   objective='reg:squarederror',\n",
    "                   colsample_bytree = 0.2500075, \n",
    "                   gamma = 1e-5,\n",
    "                   learning_rate = 0.1, \n",
    "                   max_depth = 5, min_child_weight = 11, \n",
    "                   n_estimators = 200, \n",
    "                   reg_alpha = 0.325, \n",
    "                   subsample = 0.7500025).fit(train_X, train_y)\n",
    "score = xgb.score(train_X, train_y)\n",
    "y_pred = xgb.predict(train_X)\n",
    "y_true = train_y\n",
    "RMSE = mean_squared_error(y_true, y_pred, squared=False)\n",
    "print(score, RMSE)"
   ]
  },
  {
   "cell_type": "code",
   "execution_count": null,
   "id": "e491ca81",
   "metadata": {},
   "outputs": [],
   "source": []
  },
  {
   "cell_type": "code",
   "execution_count": null,
   "id": "8d977857",
   "metadata": {},
   "outputs": [],
   "source": []
  },
  {
   "cell_type": "code",
   "execution_count": null,
   "id": "dc421d41",
   "metadata": {},
   "outputs": [],
   "source": []
  },
  {
   "cell_type": "code",
   "execution_count": null,
   "id": "fa085ed2",
   "metadata": {},
   "outputs": [],
   "source": []
  },
  {
   "cell_type": "code",
   "execution_count": null,
   "id": "33aee9ee",
   "metadata": {},
   "outputs": [],
   "source": []
  }
 ],
 "metadata": {
  "kernelspec": {
   "display_name": "Python 3",
   "language": "python",
   "name": "python3"
  },
  "language_info": {
   "codemirror_mode": {
    "name": "ipython",
    "version": 3
   },
   "file_extension": ".py",
   "mimetype": "text/x-python",
   "name": "python",
   "nbconvert_exporter": "python",
   "pygments_lexer": "ipython3",
   "version": "3.8.8"
  }
 },
 "nbformat": 4,
 "nbformat_minor": 5
}
